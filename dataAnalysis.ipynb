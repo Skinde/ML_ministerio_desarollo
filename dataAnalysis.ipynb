{
 "cells": [
  {
   "cell_type": "markdown",
   "metadata": {},
   "source": [
    "# **Ministry Budget: Data Analysis**\n",
    "\n",
    "A partir de una base de datos acerca de \"Presupuesto y Ejecución de Gastos 2023\" buscamos predecir la variable MTO_PIA que representa el \"Monto asignado de Presupuesto Institucional de Apertura\". \n",
    "\n",
    "La idea es elegir aquellas variables que afecten a la predicción de este presupuesto, para ello realizamos la limpieza de los datos de entrenamiento y posteriormente el análisis exploratorio de los datos (AED) que permite preparar aquellas variables para implementarlas en el modelo de regresión."
   ]
  },
  {
   "cell_type": "markdown",
   "metadata": {},
   "source": [
    "---\n",
    "## **Libraries**"
   ]
  },
  {
   "cell_type": "code",
   "execution_count": 111,
   "metadata": {},
   "outputs": [],
   "source": [
    "import numpy as np;\n",
    "import pandas as pd;\n",
    "import seaborn as sns;\n",
    "import matplotlib.pyplot as plt;\n",
    "\n",
    "from subprocess import check_output;\n",
    "from sklearn.preprocessing import LabelEncoder;"
   ]
  },
  {
   "cell_type": "markdown",
   "metadata": {},
   "source": [
    "---\n",
    "\n",
    "## **Dataset**"
   ]
  },
  {
   "cell_type": "code",
   "execution_count": 112,
   "metadata": {},
   "outputs": [],
   "source": [
    "selected_data_columns = [\n",
    "    'PROGRAMA_PPTAL',\n",
    "    'ACT_OBRA_ACCINV',\n",
    "    'GRUPO_FN',\n",
    "    'META',\n",
    "    'AVAN_FISICO_SEM',\n",
    "    'UBIGEO',\n",
    "    'SUBGENERICA_DET',\n",
    "    'MTO_PIA',\n",
    "];\n",
    "\n",
    "train_data = pd.read_csv('./db/train.csv')\n",
    "train_data = train_data[selected_data_columns]\n",
    "train_data = train_data.dropna()"
   ]
  },
  {
   "cell_type": "code",
   "execution_count": 113,
   "metadata": {
    "tags": []
   },
   "outputs": [
    {
     "name": "stdout",
     "output_type": "stream",
     "text": [
      "<class 'pandas.core.frame.DataFrame'>\n",
      "RangeIndex: 1464 entries, 0 to 1463\n",
      "Data columns (total 8 columns):\n",
      " #   Column           Non-Null Count  Dtype \n",
      "---  ------           --------------  ----- \n",
      " 0   PROGRAMA_PPTAL   1464 non-null   object\n",
      " 1   ACT_OBRA_ACCINV  1464 non-null   object\n",
      " 2   GRUPO_FN         1464 non-null   object\n",
      " 3   META             1464 non-null   int64 \n",
      " 4   AVAN_FISICO_SEM  1464 non-null   int64 \n",
      " 5   UBIGEO           1464 non-null   int64 \n",
      " 6   SUBGENERICA_DET  1464 non-null   object\n",
      " 7   MTO_PIA          1464 non-null   int64 \n",
      "dtypes: int64(4), object(4)\n",
      "memory usage: 91.6+ KB\n"
     ]
    },
    {
     "data": {
      "text/html": [
       "<div>\n",
       "<style scoped>\n",
       "    .dataframe tbody tr th:only-of-type {\n",
       "        vertical-align: middle;\n",
       "    }\n",
       "\n",
       "    .dataframe tbody tr th {\n",
       "        vertical-align: top;\n",
       "    }\n",
       "\n",
       "    .dataframe thead th {\n",
       "        text-align: right;\n",
       "    }\n",
       "</style>\n",
       "<table border=\"1\" class=\"dataframe\">\n",
       "  <thead>\n",
       "    <tr style=\"text-align: right;\">\n",
       "      <th></th>\n",
       "      <th>PROGRAMA_PPTAL</th>\n",
       "      <th>ACT_OBRA_ACCINV</th>\n",
       "      <th>GRUPO_FN</th>\n",
       "      <th>META</th>\n",
       "      <th>AVAN_FISICO_SEM</th>\n",
       "      <th>UBIGEO</th>\n",
       "      <th>SUBGENERICA_DET</th>\n",
       "      <th>MTO_PIA</th>\n",
       "    </tr>\n",
       "  </thead>\n",
       "  <tbody>\n",
       "    <tr>\n",
       "      <th>0</th>\n",
       "      <td>9001.ACCIONES CENTRALES</td>\n",
       "      <td>5000003.GESTION ADMINISTRATIVA</td>\n",
       "      <td>0008.ASESORAMIENTO Y APOYO</td>\n",
       "      <td>6</td>\n",
       "      <td>6</td>\n",
       "      <td>50199</td>\n",
       "      <td>6.SERVICIOS ADMINISTRATIVOS, FINANCIEROS Y DE ...</td>\n",
       "      <td>0</td>\n",
       "    </tr>\n",
       "    <tr>\n",
       "      <th>1</th>\n",
       "      <td>9001.ACCIONES CENTRALES</td>\n",
       "      <td>5000003.GESTION ADMINISTRATIVA</td>\n",
       "      <td>0008.ASESORAMIENTO Y APOYO</td>\n",
       "      <td>20</td>\n",
       "      <td>6</td>\n",
       "      <td>230199</td>\n",
       "      <td>1.VIAJES</td>\n",
       "      <td>805</td>\n",
       "    </tr>\n",
       "    <tr>\n",
       "      <th>2</th>\n",
       "      <td>9002.ASIGNACIONES PRESUPUESTARIAS QUE NO RESUL...</td>\n",
       "      <td>5002358.GESTION DE LAS PRESTACIONES SOCIALES</td>\n",
       "      <td>0114.DESARROLLO DE CAPACIDADES SOCIALES Y ECON...</td>\n",
       "      <td>4</td>\n",
       "      <td>16</td>\n",
       "      <td>10199</td>\n",
       "      <td>8.CONTRATO ADMINISTRATIVO DE SERVICIOS</td>\n",
       "      <td>0</td>\n",
       "    </tr>\n",
       "    <tr>\n",
       "      <th>3</th>\n",
       "      <td>9001.ACCIONES CENTRALES</td>\n",
       "      <td>5000003.GESTION ADMINISTRATIVA</td>\n",
       "      <td>0008.ASESORAMIENTO Y APOYO</td>\n",
       "      <td>1</td>\n",
       "      <td>6</td>\n",
       "      <td>150101</td>\n",
       "      <td>6.SERVICIOS ADMINISTRATIVOS, FINANCIEROS Y DE ...</td>\n",
       "      <td>0</td>\n",
       "    </tr>\n",
       "    <tr>\n",
       "      <th>4</th>\n",
       "      <td>9001.ACCIONES CENTRALES</td>\n",
       "      <td>5000003.GESTION ADMINISTRATIVA</td>\n",
       "      <td>0008.ASESORAMIENTO Y APOYO</td>\n",
       "      <td>7</td>\n",
       "      <td>6</td>\n",
       "      <td>50699</td>\n",
       "      <td>7.SERVICIOS PROFESIONALES Y TECNICOS</td>\n",
       "      <td>8816</td>\n",
       "    </tr>\n",
       "  </tbody>\n",
       "</table>\n",
       "</div>"
      ],
      "text/plain": [
       "                                      PROGRAMA_PPTAL  \\\n",
       "0                            9001.ACCIONES CENTRALES   \n",
       "1                            9001.ACCIONES CENTRALES   \n",
       "2  9002.ASIGNACIONES PRESUPUESTARIAS QUE NO RESUL...   \n",
       "3                            9001.ACCIONES CENTRALES   \n",
       "4                            9001.ACCIONES CENTRALES   \n",
       "\n",
       "                                ACT_OBRA_ACCINV  \\\n",
       "0                5000003.GESTION ADMINISTRATIVA   \n",
       "1                5000003.GESTION ADMINISTRATIVA   \n",
       "2  5002358.GESTION DE LAS PRESTACIONES SOCIALES   \n",
       "3                5000003.GESTION ADMINISTRATIVA   \n",
       "4                5000003.GESTION ADMINISTRATIVA   \n",
       "\n",
       "                                            GRUPO_FN  META  AVAN_FISICO_SEM  \\\n",
       "0                         0008.ASESORAMIENTO Y APOYO     6                6   \n",
       "1                         0008.ASESORAMIENTO Y APOYO    20                6   \n",
       "2  0114.DESARROLLO DE CAPACIDADES SOCIALES Y ECON...     4               16   \n",
       "3                         0008.ASESORAMIENTO Y APOYO     1                6   \n",
       "4                         0008.ASESORAMIENTO Y APOYO     7                6   \n",
       "\n",
       "   UBIGEO                                    SUBGENERICA_DET  MTO_PIA  \n",
       "0   50199  6.SERVICIOS ADMINISTRATIVOS, FINANCIEROS Y DE ...        0  \n",
       "1  230199                                           1.VIAJES      805  \n",
       "2   10199             8.CONTRATO ADMINISTRATIVO DE SERVICIOS        0  \n",
       "3  150101  6.SERVICIOS ADMINISTRATIVOS, FINANCIEROS Y DE ...        0  \n",
       "4   50699               7.SERVICIOS PROFESIONALES Y TECNICOS     8816  "
      ]
     },
     "execution_count": 113,
     "metadata": {},
     "output_type": "execute_result"
    }
   ],
   "source": [
    "train_data.info()\n",
    "train_data.head(5)"
   ]
  },
  {
   "cell_type": "markdown",
   "metadata": {},
   "source": [
    "---\n",
    "## **Análisis exploratorio de Datos**"
   ]
  },
  {
   "cell_type": "markdown",
   "metadata": {},
   "source": [
    "El primer paso será convertir aquellas variables categóricas a numéricas. En este caso, la base de datos tiene tanto categóricas nominales como ordinales, por lo que el tratamiento de datos debe ser distinto, un ejemplo son DEPARTAMENTO y ESPECIFICA respectivamente, no obstante se decidió utilizar la función **label encoder** que se encarga de asignar un número a cada categoría para después analizarlo con ese identificador."
   ]
  },
  {
   "cell_type": "code",
   "execution_count": 114,
   "metadata": {},
   "outputs": [],
   "source": [
    "def get_categorical_label (dataframe):\n",
    "  labelEncoder = LabelEncoder()\n",
    "\n",
    "  for each_column in dataframe.columns:\n",
    "    if dataframe[each_column].dtype == 'object':\n",
    "      train_data[each_column] = labelEncoder.fit_transform(train_data[each_column])\n",
    "\n",
    "get_categorical_label(train_data)"
   ]
  },
  {
   "cell_type": "code",
   "execution_count": 115,
   "metadata": {
    "tags": []
   },
   "outputs": [
    {
     "name": "stdout",
     "output_type": "stream",
     "text": [
      "<class 'pandas.core.frame.DataFrame'>\n",
      "RangeIndex: 1464 entries, 0 to 1463\n",
      "Data columns (total 8 columns):\n",
      " #   Column           Non-Null Count  Dtype\n",
      "---  ------           --------------  -----\n",
      " 0   PROGRAMA_PPTAL   1464 non-null   int32\n",
      " 1   ACT_OBRA_ACCINV  1464 non-null   int32\n",
      " 2   GRUPO_FN         1464 non-null   int32\n",
      " 3   META             1464 non-null   int64\n",
      " 4   AVAN_FISICO_SEM  1464 non-null   int64\n",
      " 5   UBIGEO           1464 non-null   int64\n",
      " 6   SUBGENERICA_DET  1464 non-null   int32\n",
      " 7   MTO_PIA          1464 non-null   int64\n",
      "dtypes: int32(4), int64(4)\n",
      "memory usage: 68.8 KB\n"
     ]
    },
    {
     "data": {
      "text/html": [
       "<div>\n",
       "<style scoped>\n",
       "    .dataframe tbody tr th:only-of-type {\n",
       "        vertical-align: middle;\n",
       "    }\n",
       "\n",
       "    .dataframe tbody tr th {\n",
       "        vertical-align: top;\n",
       "    }\n",
       "\n",
       "    .dataframe thead th {\n",
       "        text-align: right;\n",
       "    }\n",
       "</style>\n",
       "<table border=\"1\" class=\"dataframe\">\n",
       "  <thead>\n",
       "    <tr style=\"text-align: right;\">\n",
       "      <th></th>\n",
       "      <th>PROGRAMA_PPTAL</th>\n",
       "      <th>ACT_OBRA_ACCINV</th>\n",
       "      <th>GRUPO_FN</th>\n",
       "      <th>META</th>\n",
       "      <th>AVAN_FISICO_SEM</th>\n",
       "      <th>UBIGEO</th>\n",
       "      <th>SUBGENERICA_DET</th>\n",
       "      <th>MTO_PIA</th>\n",
       "    </tr>\n",
       "  </thead>\n",
       "  <tbody>\n",
       "    <tr>\n",
       "      <th>count</th>\n",
       "      <td>1464.000000</td>\n",
       "      <td>1464.000000</td>\n",
       "      <td>1464.000000</td>\n",
       "      <td>1464.000000</td>\n",
       "      <td>1464.000000</td>\n",
       "      <td>1464.000000</td>\n",
       "      <td>1464.000000</td>\n",
       "      <td>1.464000e+03</td>\n",
       "    </tr>\n",
       "    <tr>\n",
       "      <th>mean</th>\n",
       "      <td>1.557377</td>\n",
       "      <td>4.267077</td>\n",
       "      <td>3.679645</td>\n",
       "      <td>12.462432</td>\n",
       "      <td>874.536202</td>\n",
       "      <td>126105.652322</td>\n",
       "      <td>14.434426</td>\n",
       "      <td>4.745334e+04</td>\n",
       "    </tr>\n",
       "    <tr>\n",
       "      <th>std</th>\n",
       "      <td>0.503698</td>\n",
       "      <td>2.004877</td>\n",
       "      <td>1.513384</td>\n",
       "      <td>7.395105</td>\n",
       "      <td>7136.279030</td>\n",
       "      <td>69018.461602</td>\n",
       "      <td>5.917276</td>\n",
       "      <td>1.844846e+05</td>\n",
       "    </tr>\n",
       "    <tr>\n",
       "      <th>min</th>\n",
       "      <td>0.000000</td>\n",
       "      <td>0.000000</td>\n",
       "      <td>0.000000</td>\n",
       "      <td>1.000000</td>\n",
       "      <td>0.000000</td>\n",
       "      <td>10199.000000</td>\n",
       "      <td>0.000000</td>\n",
       "      <td>0.000000e+00</td>\n",
       "    </tr>\n",
       "    <tr>\n",
       "      <th>25%</th>\n",
       "      <td>1.000000</td>\n",
       "      <td>2.000000</td>\n",
       "      <td>2.000000</td>\n",
       "      <td>6.000000</td>\n",
       "      <td>4.000000</td>\n",
       "      <td>60199.000000</td>\n",
       "      <td>9.000000</td>\n",
       "      <td>1.330000e+02</td>\n",
       "    </tr>\n",
       "    <tr>\n",
       "      <th>50%</th>\n",
       "      <td>2.000000</td>\n",
       "      <td>6.000000</td>\n",
       "      <td>5.000000</td>\n",
       "      <td>12.000000</td>\n",
       "      <td>6.000000</td>\n",
       "      <td>140199.000000</td>\n",
       "      <td>15.000000</td>\n",
       "      <td>2.316500e+03</td>\n",
       "    </tr>\n",
       "    <tr>\n",
       "      <th>75%</th>\n",
       "      <td>2.000000</td>\n",
       "      <td>6.000000</td>\n",
       "      <td>5.000000</td>\n",
       "      <td>18.000000</td>\n",
       "      <td>16.000000</td>\n",
       "      <td>180199.000000</td>\n",
       "      <td>20.000000</td>\n",
       "      <td>1.742675e+04</td>\n",
       "    </tr>\n",
       "    <tr>\n",
       "      <th>max</th>\n",
       "      <td>2.000000</td>\n",
       "      <td>9.000000</td>\n",
       "      <td>5.000000</td>\n",
       "      <td>27.000000</td>\n",
       "      <td>61303.000000</td>\n",
       "      <td>250199.000000</td>\n",
       "      <td>23.000000</td>\n",
       "      <td>2.816373e+06</td>\n",
       "    </tr>\n",
       "  </tbody>\n",
       "</table>\n",
       "</div>"
      ],
      "text/plain": [
       "       PROGRAMA_PPTAL  ACT_OBRA_ACCINV     GRUPO_FN         META  \\\n",
       "count     1464.000000      1464.000000  1464.000000  1464.000000   \n",
       "mean         1.557377         4.267077     3.679645    12.462432   \n",
       "std          0.503698         2.004877     1.513384     7.395105   \n",
       "min          0.000000         0.000000     0.000000     1.000000   \n",
       "25%          1.000000         2.000000     2.000000     6.000000   \n",
       "50%          2.000000         6.000000     5.000000    12.000000   \n",
       "75%          2.000000         6.000000     5.000000    18.000000   \n",
       "max          2.000000         9.000000     5.000000    27.000000   \n",
       "\n",
       "       AVAN_FISICO_SEM         UBIGEO  SUBGENERICA_DET       MTO_PIA  \n",
       "count      1464.000000    1464.000000      1464.000000  1.464000e+03  \n",
       "mean        874.536202  126105.652322        14.434426  4.745334e+04  \n",
       "std        7136.279030   69018.461602         5.917276  1.844846e+05  \n",
       "min           0.000000   10199.000000         0.000000  0.000000e+00  \n",
       "25%           4.000000   60199.000000         9.000000  1.330000e+02  \n",
       "50%           6.000000  140199.000000        15.000000  2.316500e+03  \n",
       "75%          16.000000  180199.000000        20.000000  1.742675e+04  \n",
       "max       61303.000000  250199.000000        23.000000  2.816373e+06  "
      ]
     },
     "execution_count": 115,
     "metadata": {},
     "output_type": "execute_result"
    }
   ],
   "source": [
    "train_data.info()\n",
    "train_data.head(5)\n",
    "train_data.describe()"
   ]
  },
  {
   "cell_type": "markdown",
   "metadata": {},
   "source": [
    "Ahora, es importante considerar qué tan correlacionadas está nuestra variable independiente y dependiente (MTO_PIA). Para ello podemos aprovechar la funcionalidad que nos brinda pandas."
   ]
  },
  {
   "cell_type": "code",
   "execution_count": 116,
   "metadata": {
    "tags": []
   },
   "outputs": [
    {
     "name": "stdout",
     "output_type": "stream",
     "text": [
      "PROGRAMA_PPTAL     0.068939\n",
      "ACT_OBRA_ACCINV    0.062121\n",
      "GRUPO_FN           0.062056\n",
      "META              -0.047390\n",
      "AVAN_FISICO_SEM    0.027541\n",
      "UBIGEO            -0.017282\n",
      "SUBGENERICA_DET    0.143861\n",
      "MTO_PIA            1.000000\n",
      "Name: MTO_PIA, dtype: float64\n"
     ]
    }
   ],
   "source": [
    "print(train_data.corr()['MTO_PIA'])"
   ]
  },
  {
   "cell_type": "markdown",
   "metadata": {},
   "source": [
    "En este caso podemos observar que según la correlación ofrecida por la función de python, no existe una correlación directa entre las variables. En pocas palabras, para cada variable seleccionada no existe una constante de cambio tal que mantenga la proporción, pues nuestro valores tienden a 0, donde la correlación es mínima. Esto es un claro ejemplo que nuestro modelo tendrá que ser no-lineal y para adaptar la forma, multivariable (polinomio)."
   ]
  },
  {
   "cell_type": "code",
   "execution_count": 117,
   "metadata": {},
   "outputs": [
    {
     "data": {
      "text/plain": [
       "<Axes: >"
      ]
     },
     "execution_count": 117,
     "metadata": {},
     "output_type": "execute_result"
    },
    {
     "data": {
      "image/png": "[encoded data removed]",
      "text/plain": [
       "<Figure size 800x500 with 2 Axes>"
      ]
     },
     "metadata": {},
     "output_type": "display_data"
    }
   ],
   "source": [
    "correlation_matrix = train_data.corr()\n",
    "f, ax = plt.subplots(figsize=(8, 5))\n",
    "sns.heatmap(correlation_matrix)"
   ]
  },
  {
   "cell_type": "markdown",
   "metadata": {},
   "source": [
    "En el ejemplo superior es posible notar una información valiosa, para distintos programas existe una categoría presupuestal distinta, esto indica que va variar el MTO_PIA dependiendo aquel valor, es así entonces que es un criterio del gasto presupuestal."
   ]
  },
  {
   "cell_type": "code",
   "execution_count": 118,
   "metadata": {},
   "outputs": [],
   "source": [
    "# Calculate mean of 'MTO_PIA' for each group and sort by mean\n",
    "mean_df = train_data.groupby('GRUPO_FN', as_index=False)['MTO_PIA'].mean().sort_values('MTO_PIA')"
   ]
  },
  {
   "cell_type": "markdown",
   "metadata": {},
   "source": [
    "Con el promedio mostrado para cada único grupo funcional, podemos notar que para el grupo 4 tenemos un mínimo promedio, mientras que para el código 1 tenemos una alta prioridad, pues tiene el promedio de MTO_PIA más alto. \n",
    "\n",
    "Por otro lado la mediana tiene a 10,000 como valor que divide el conjunto de datos en dos partes iguales, la mitad de datos cae por debajo y la otra mitad por encima."
   ]
  },
  {
   "cell_type": "code",
   "execution_count": 119,
   "metadata": {},
   "outputs": [],
   "source": [
    "train_data.to_csv('./db/trainDataModified.csv', index=False);"
   ]
  }
 ],
 "metadata": {
  "kernelspec": {
   "display_name": "Python 3 (ipykernel)",
   "language": "python",
   "name": "python3"
  },
  "language_info": {
   "codemirror_mode": {
    "name": "ipython",
    "version": 3
   },
   "file_extension": ".py",
   "mimetype": "text/x-python",
   "name": "python",
   "nbconvert_exporter": "python",
   "pygments_lexer": "ipython3",
   "version": "3.11.0"
  }
 },
 "nbformat": 4,
 "nbformat_minor": 4
}
