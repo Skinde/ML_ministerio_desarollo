{
 "cells": [
  {
   "cell_type": "markdown",
   "metadata": {},
   "source": [
    "# **Ministry Budget: Data Analysis**\n",
    "\n",
    "A partir de una base de datos acerca de \"Presupuesto y Ejecución de Gastos 2023\" buscamos predecir la variable MTO_PIA que representa el \"Monto asignado de Presupuesto Institucional de Apertura\". \n",
    "\n",
    "La idea es elegir aquellas variables que afecten a la predicción de este presupuesto, para ello realizamos la limpieza de los datos de entrenamiento y posteriormente el análisis exploratorio de los datos (AED) que permite preparar aquellas variables para implementarlas en el modelo de regresión."
   ]
  },
  {
   "cell_type": "markdown",
   "metadata": {},
   "source": [
    "---\n",
    "## **Libraries**"
   ]
  },
  {
   "cell_type": "code",
   "execution_count": 278,
   "metadata": {},
   "outputs": [],
   "source": [
    "import numpy as np;\n",
    "import pandas as pd;\n",
    "import seaborn as sns;\n",
    "import matplotlib.pyplot as plt;\n",
    "\n",
    "from subprocess import check_output;\n",
    "from sklearn.preprocessing import LabelEncoder;"
   ]
  },
  {
   "cell_type": "markdown",
   "metadata": {},
   "source": [
    "---\n",
    "\n",
    "## **Dataset**"
   ]
  },
  {
   "cell_type": "code",
   "execution_count": 279,
   "metadata": {},
   "outputs": [],
   "source": [
    "selected_data_columns = [\n",
    "    'AVAN_FISICO_SEM',\n",
    "    'DIVISION_FN',\n",
    "    'DEPARTAMENTO',\n",
    "    'SUBGENERICA',\n",
    "    'MTO_PIA',\n",
    "];\n",
    "\n",
    "train_data = pd.read_csv('./db/test.csv')\n",
    "train_data = train_data[selected_data_columns]\n",
    "train_data = train_data.dropna()"
   ]
  },
  {
   "cell_type": "code",
   "execution_count": 280,
   "metadata": {
    "tags": []
   },
   "outputs": [
    {
     "name": "stdout",
     "output_type": "stream",
     "text": [
      "<class 'pandas.core.frame.DataFrame'>\n",
      "RangeIndex: 1464 entries, 0 to 1463\n",
      "Data columns (total 5 columns):\n",
      " #   Column           Non-Null Count  Dtype \n",
      "---  ------           --------------  ----- \n",
      " 0   AVAN_FISICO_SEM  1464 non-null   int64 \n",
      " 1   DIVISION_FN      1464 non-null   object\n",
      " 2   DEPARTAMENTO     1464 non-null   object\n",
      " 3   SUBGENERICA      1464 non-null   object\n",
      " 4   MTO_PIA          1464 non-null   int64 \n",
      "dtypes: int64(2), object(3)\n",
      "memory usage: 57.3+ KB\n"
     ]
    },
    {
     "data": {
      "text/html": [
       "<div>\n",
       "<style scoped>\n",
       "    .dataframe tbody tr th:only-of-type {\n",
       "        vertical-align: middle;\n",
       "    }\n",
       "\n",
       "    .dataframe tbody tr th {\n",
       "        vertical-align: top;\n",
       "    }\n",
       "\n",
       "    .dataframe thead th {\n",
       "        text-align: right;\n",
       "    }\n",
       "</style>\n",
       "<table border=\"1\" class=\"dataframe\">\n",
       "  <thead>\n",
       "    <tr style=\"text-align: right;\">\n",
       "      <th></th>\n",
       "      <th>AVAN_FISICO_SEM</th>\n",
       "      <th>DIVISION_FN</th>\n",
       "      <th>DEPARTAMENTO</th>\n",
       "      <th>SUBGENERICA</th>\n",
       "      <th>MTO_PIA</th>\n",
       "    </tr>\n",
       "  </thead>\n",
       "  <tbody>\n",
       "    <tr>\n",
       "      <th>0</th>\n",
       "      <td>6</td>\n",
       "      <td>006.GESTION</td>\n",
       "      <td>AYACUCHO</td>\n",
       "      <td>2.CONTRATACION DE SERVICIOS</td>\n",
       "      <td>0</td>\n",
       "    </tr>\n",
       "    <tr>\n",
       "      <th>1</th>\n",
       "      <td>6</td>\n",
       "      <td>006.GESTION</td>\n",
       "      <td>TACNA</td>\n",
       "      <td>2.CONTRATACION DE SERVICIOS</td>\n",
       "      <td>805</td>\n",
       "    </tr>\n",
       "    <tr>\n",
       "      <th>2</th>\n",
       "      <td>16</td>\n",
       "      <td>051.ASISTENCIA SOCIAL</td>\n",
       "      <td>AMAZONAS</td>\n",
       "      <td>2.CONTRATACION DE SERVICIOS</td>\n",
       "      <td>0</td>\n",
       "    </tr>\n",
       "    <tr>\n",
       "      <th>3</th>\n",
       "      <td>6</td>\n",
       "      <td>006.GESTION</td>\n",
       "      <td>LIMA</td>\n",
       "      <td>2.CONTRATACION DE SERVICIOS</td>\n",
       "      <td>0</td>\n",
       "    </tr>\n",
       "    <tr>\n",
       "      <th>4</th>\n",
       "      <td>6</td>\n",
       "      <td>006.GESTION</td>\n",
       "      <td>AYACUCHO</td>\n",
       "      <td>2.CONTRATACION DE SERVICIOS</td>\n",
       "      <td>8816</td>\n",
       "    </tr>\n",
       "  </tbody>\n",
       "</table>\n",
       "</div>"
      ],
      "text/plain": [
       "   AVAN_FISICO_SEM            DIVISION_FN DEPARTAMENTO  \\\n",
       "0                6            006.GESTION     AYACUCHO   \n",
       "1                6            006.GESTION        TACNA   \n",
       "2               16  051.ASISTENCIA SOCIAL     AMAZONAS   \n",
       "3                6            006.GESTION         LIMA   \n",
       "4                6            006.GESTION     AYACUCHO   \n",
       "\n",
       "                   SUBGENERICA  MTO_PIA  \n",
       "0  2.CONTRATACION DE SERVICIOS        0  \n",
       "1  2.CONTRATACION DE SERVICIOS      805  \n",
       "2  2.CONTRATACION DE SERVICIOS        0  \n",
       "3  2.CONTRATACION DE SERVICIOS        0  \n",
       "4  2.CONTRATACION DE SERVICIOS     8816  "
      ]
     },
     "execution_count": 280,
     "metadata": {},
     "output_type": "execute_result"
    }
   ],
   "source": [
    "train_data.info()\n",
    "train_data.head(5)"
   ]
  },
  {
   "cell_type": "markdown",
   "metadata": {},
   "source": [
    "---\n",
    "## **Análisis exploratorio de Datos**"
   ]
  },
  {
   "cell_type": "markdown",
   "metadata": {},
   "source": [
    "El primer paso será convertir aquellas variables categóricas a numéricas. En este caso, la base de datos tiene tanto categóricas nominales como ordinales, por lo que el tratamiento de datos debe ser distinto, un ejemplo son DEPARTAMENTO y ESPECIFICA respectivamente, no obstante se decidió utilizar la función **label encoder** que se encarga de asignar un número a cada categoría para después analizarlo con ese identificador."
   ]
  },
  {
   "cell_type": "code",
   "execution_count": 281,
   "metadata": {},
   "outputs": [],
   "source": [
    "def get_categorical_label (dataframe):\n",
    "  labelEncoder = LabelEncoder()\n",
    "\n",
    "  for each_column in dataframe.columns:\n",
    "    if dataframe[each_column].dtype == 'object':\n",
    "      train_data[each_column] = labelEncoder.fit_transform(train_data[each_column])\n",
    "\n",
    "get_categorical_label(train_data)"
   ]
  },
  {
   "cell_type": "code",
   "execution_count": 282,
   "metadata": {
    "tags": []
   },
   "outputs": [
    {
     "name": "stdout",
     "output_type": "stream",
     "text": [
      "<class 'pandas.core.frame.DataFrame'>\n",
      "RangeIndex: 1464 entries, 0 to 1463\n",
      "Data columns (total 5 columns):\n",
      " #   Column           Non-Null Count  Dtype\n",
      "---  ------           --------------  -----\n",
      " 0   AVAN_FISICO_SEM  1464 non-null   int64\n",
      " 1   DIVISION_FN      1464 non-null   int32\n",
      " 2   DEPARTAMENTO     1464 non-null   int32\n",
      " 3   SUBGENERICA      1464 non-null   int32\n",
      " 4   MTO_PIA          1464 non-null   int64\n",
      "dtypes: int32(3), int64(2)\n",
      "memory usage: 40.2 KB\n"
     ]
    },
    {
     "data": {
      "text/html": [
       "<div>\n",
       "<style scoped>\n",
       "    .dataframe tbody tr th:only-of-type {\n",
       "        vertical-align: middle;\n",
       "    }\n",
       "\n",
       "    .dataframe tbody tr th {\n",
       "        vertical-align: top;\n",
       "    }\n",
       "\n",
       "    .dataframe thead th {\n",
       "        text-align: right;\n",
       "    }\n",
       "</style>\n",
       "<table border=\"1\" class=\"dataframe\">\n",
       "  <thead>\n",
       "    <tr style=\"text-align: right;\">\n",
       "      <th></th>\n",
       "      <th>AVAN_FISICO_SEM</th>\n",
       "      <th>DIVISION_FN</th>\n",
       "      <th>DEPARTAMENTO</th>\n",
       "      <th>SUBGENERICA</th>\n",
       "      <th>MTO_PIA</th>\n",
       "    </tr>\n",
       "  </thead>\n",
       "  <tbody>\n",
       "    <tr>\n",
       "      <th>count</th>\n",
       "      <td>1464.000000</td>\n",
       "      <td>1464.000000</td>\n",
       "      <td>1464.000000</td>\n",
       "      <td>1464.000000</td>\n",
       "      <td>1.464000e+03</td>\n",
       "    </tr>\n",
       "    <tr>\n",
       "      <th>mean</th>\n",
       "      <td>874.536202</td>\n",
       "      <td>2.117486</td>\n",
       "      <td>10.241120</td>\n",
       "      <td>0.747268</td>\n",
       "      <td>4.745334e+04</td>\n",
       "    </tr>\n",
       "    <tr>\n",
       "      <th>std</th>\n",
       "      <td>7136.279030</td>\n",
       "      <td>1.003000</td>\n",
       "      <td>6.061086</td>\n",
       "      <td>0.657513</td>\n",
       "      <td>1.844846e+05</td>\n",
       "    </tr>\n",
       "    <tr>\n",
       "      <th>min</th>\n",
       "      <td>0.000000</td>\n",
       "      <td>0.000000</td>\n",
       "      <td>0.000000</td>\n",
       "      <td>0.000000</td>\n",
       "      <td>0.000000e+00</td>\n",
       "    </tr>\n",
       "    <tr>\n",
       "      <th>25%</th>\n",
       "      <td>4.000000</td>\n",
       "      <td>1.000000</td>\n",
       "      <td>5.000000</td>\n",
       "      <td>0.000000</td>\n",
       "      <td>1.330000e+02</td>\n",
       "    </tr>\n",
       "    <tr>\n",
       "      <th>50%</th>\n",
       "      <td>6.000000</td>\n",
       "      <td>3.000000</td>\n",
       "      <td>11.000000</td>\n",
       "      <td>1.000000</td>\n",
       "      <td>2.316500e+03</td>\n",
       "    </tr>\n",
       "    <tr>\n",
       "      <th>75%</th>\n",
       "      <td>16.000000</td>\n",
       "      <td>3.000000</td>\n",
       "      <td>15.000000</td>\n",
       "      <td>1.000000</td>\n",
       "      <td>1.742675e+04</td>\n",
       "    </tr>\n",
       "    <tr>\n",
       "      <th>max</th>\n",
       "      <td>61303.000000</td>\n",
       "      <td>3.000000</td>\n",
       "      <td>21.000000</td>\n",
       "      <td>6.000000</td>\n",
       "      <td>2.816373e+06</td>\n",
       "    </tr>\n",
       "  </tbody>\n",
       "</table>\n",
       "</div>"
      ],
      "text/plain": [
       "       AVAN_FISICO_SEM  DIVISION_FN  DEPARTAMENTO  SUBGENERICA       MTO_PIA\n",
       "count      1464.000000  1464.000000   1464.000000  1464.000000  1.464000e+03\n",
       "mean        874.536202     2.117486     10.241120     0.747268  4.745334e+04\n",
       "std        7136.279030     1.003000      6.061086     0.657513  1.844846e+05\n",
       "min           0.000000     0.000000      0.000000     0.000000  0.000000e+00\n",
       "25%           4.000000     1.000000      5.000000     0.000000  1.330000e+02\n",
       "50%           6.000000     3.000000     11.000000     1.000000  2.316500e+03\n",
       "75%          16.000000     3.000000     15.000000     1.000000  1.742675e+04\n",
       "max       61303.000000     3.000000     21.000000     6.000000  2.816373e+06"
      ]
     },
     "execution_count": 282,
     "metadata": {},
     "output_type": "execute_result"
    }
   ],
   "source": [
    "train_data.info()\n",
    "train_data.head(5)\n",
    "train_data.describe()"
   ]
  },
  {
   "cell_type": "markdown",
   "metadata": {},
   "source": [
    "Ahora, es importante considerar qué tan correlacionadas está nuestra variable independiente y dependiente (MTO_PIA). Para ello podemos aprovechar la funcionalidad que nos brinda pandas."
   ]
  },
  {
   "cell_type": "code",
   "execution_count": 283,
   "metadata": {
    "tags": []
   },
   "outputs": [
    {
     "name": "stdout",
     "output_type": "stream",
     "text": [
      "AVAN_FISICO_SEM    0.027541\n",
      "DIVISION_FN        0.064473\n",
      "DEPARTAMENTO      -0.021220\n",
      "SUBGENERICA        0.074762\n",
      "MTO_PIA            1.000000\n",
      "Name: MTO_PIA, dtype: float64\n"
     ]
    }
   ],
   "source": [
    "print(train_data.corr()['MTO_PIA'])"
   ]
  },
  {
   "cell_type": "markdown",
   "metadata": {},
   "source": [
    "En este caso podemos observar que según la correlación ofrecida por la función de python, no existe una correlación directa entre las variables. En pocas palabras, para cada variable seleccionada no existe una constante de cambio tal que mantenga la proporción, pues nuestro valores tienden a 0, donde la correlación es mínima. Esto es un claro ejemplo que nuestro modelo tendrá que ser no-lineal y para adaptar la forma, multivariable (polinomio)."
   ]
  },
  {
   "cell_type": "code",
   "execution_count": 284,
   "metadata": {},
   "outputs": [
    {
     "data": {
      "text/plain": [
       "<Axes: >"
      ]
     },
     "execution_count": 284,
     "metadata": {},
     "output_type": "execute_result"
    },
    {
     "data": {
      "image/png": "[encoded data removed]",
      "text/plain": [
       "<Figure size 800x500 with 2 Axes>"
      ]
     },
     "metadata": {},
     "output_type": "display_data"
    }
   ],
   "source": [
    "correlation_matrix = train_data.corr()\n",
    "f, ax = plt.subplots(figsize=(8, 5))\n",
    "sns.heatmap(correlation_matrix)"
   ]
  },
  {
   "cell_type": "markdown",
   "metadata": {},
   "source": [
    "En el ejemplo superior es posible notar una información valiosa, para distintos programas existe una categoría presupuestal distinta, esto indica que va variar el MTO_PIA dependiendo aquel valor, es así entonces que es un criterio del gasto presupuestal."
   ]
  },
  {
   "cell_type": "code",
   "execution_count": 285,
   "metadata": {},
   "outputs": [
    {
     "ename": "KeyError",
     "evalue": "'GRUPO_FN'",
     "output_type": "error",
     "traceback": [
      "\u001b[1;31m---------------------------------------------------------------------------\u001b[0m",
      "\u001b[1;31mKeyError\u001b[0m                                  Traceback (most recent call last)",
      "Cell \u001b[1;32mIn[285], line 1\u001b[0m\n\u001b[1;32m----> 1\u001b[0m \u001b[38;5;28mprint\u001b[39m(\u001b[43mtrain_data\u001b[49m\u001b[38;5;241;43m.\u001b[39;49m\u001b[43mgroupby\u001b[49m\u001b[43m(\u001b[49m\u001b[38;5;124;43m'\u001b[39;49m\u001b[38;5;124;43mGRUPO_FN\u001b[39;49m\u001b[38;5;124;43m'\u001b[39;49m\u001b[43m,\u001b[49m\u001b[43m \u001b[49m\u001b[43mas_index\u001b[49m\u001b[38;5;241;43m=\u001b[39;49m\u001b[38;5;28;43;01mFalse\u001b[39;49;00m\u001b[43m)\u001b[49m[\u001b[38;5;124m'\u001b[39m\u001b[38;5;124mMTO_PIA\u001b[39m\u001b[38;5;124m'\u001b[39m]\u001b[38;5;241m.\u001b[39mmean()\u001b[38;5;241m.\u001b[39msort_values(\u001b[38;5;124m'\u001b[39m\u001b[38;5;124mMTO_PIA\u001b[39m\u001b[38;5;124m'\u001b[39m));\n",
      "File \u001b[1;32mc:\\Python311\\Lib\\site-packages\\pandas\\core\\frame.py:8402\u001b[0m, in \u001b[0;36mDataFrame.groupby\u001b[1;34m(self, by, axis, level, as_index, sort, group_keys, squeeze, observed, dropna)\u001b[0m\n\u001b[0;32m   8399\u001b[0m     \u001b[38;5;28;01mraise\u001b[39;00m \u001b[38;5;167;01mTypeError\u001b[39;00m(\u001b[38;5;124m\"\u001b[39m\u001b[38;5;124mYou have to supply one of \u001b[39m\u001b[38;5;124m'\u001b[39m\u001b[38;5;124mby\u001b[39m\u001b[38;5;124m'\u001b[39m\u001b[38;5;124m and \u001b[39m\u001b[38;5;124m'\u001b[39m\u001b[38;5;124mlevel\u001b[39m\u001b[38;5;124m'\u001b[39m\u001b[38;5;124m\"\u001b[39m)\n\u001b[0;32m   8400\u001b[0m axis \u001b[38;5;241m=\u001b[39m \u001b[38;5;28mself\u001b[39m\u001b[38;5;241m.\u001b[39m_get_axis_number(axis)\n\u001b[1;32m-> 8402\u001b[0m \u001b[38;5;28;01mreturn\u001b[39;00m \u001b[43mDataFrameGroupBy\u001b[49m\u001b[43m(\u001b[49m\n\u001b[0;32m   8403\u001b[0m \u001b[43m    \u001b[49m\u001b[43mobj\u001b[49m\u001b[38;5;241;43m=\u001b[39;49m\u001b[38;5;28;43mself\u001b[39;49m\u001b[43m,\u001b[49m\n\u001b[0;32m   8404\u001b[0m \u001b[43m    \u001b[49m\u001b[43mkeys\u001b[49m\u001b[38;5;241;43m=\u001b[39;49m\u001b[43mby\u001b[49m\u001b[43m,\u001b[49m\n\u001b[0;32m   8405\u001b[0m \u001b[43m    \u001b[49m\u001b[43maxis\u001b[49m\u001b[38;5;241;43m=\u001b[39;49m\u001b[43maxis\u001b[49m\u001b[43m,\u001b[49m\n\u001b[0;32m   8406\u001b[0m \u001b[43m    \u001b[49m\u001b[43mlevel\u001b[49m\u001b[38;5;241;43m=\u001b[39;49m\u001b[43mlevel\u001b[49m\u001b[43m,\u001b[49m\n\u001b[0;32m   8407\u001b[0m \u001b[43m    \u001b[49m\u001b[43mas_index\u001b[49m\u001b[38;5;241;43m=\u001b[39;49m\u001b[43mas_index\u001b[49m\u001b[43m,\u001b[49m\n\u001b[0;32m   8408\u001b[0m \u001b[43m    \u001b[49m\u001b[43msort\u001b[49m\u001b[38;5;241;43m=\u001b[39;49m\u001b[43msort\u001b[49m\u001b[43m,\u001b[49m\n\u001b[0;32m   8409\u001b[0m \u001b[43m    \u001b[49m\u001b[43mgroup_keys\u001b[49m\u001b[38;5;241;43m=\u001b[39;49m\u001b[43mgroup_keys\u001b[49m\u001b[43m,\u001b[49m\n\u001b[0;32m   8410\u001b[0m \u001b[43m    \u001b[49m\u001b[43msqueeze\u001b[49m\u001b[38;5;241;43m=\u001b[39;49m\u001b[43msqueeze\u001b[49m\u001b[43m,\u001b[49m\n\u001b[0;32m   8411\u001b[0m \u001b[43m    \u001b[49m\u001b[43mobserved\u001b[49m\u001b[38;5;241;43m=\u001b[39;49m\u001b[43mobserved\u001b[49m\u001b[43m,\u001b[49m\n\u001b[0;32m   8412\u001b[0m \u001b[43m    \u001b[49m\u001b[43mdropna\u001b[49m\u001b[38;5;241;43m=\u001b[39;49m\u001b[43mdropna\u001b[49m\u001b[43m,\u001b[49m\n\u001b[0;32m   8413\u001b[0m \u001b[43m\u001b[49m\u001b[43m)\u001b[49m\n",
      "File \u001b[1;32mc:\\Python311\\Lib\\site-packages\\pandas\\core\\groupby\\groupby.py:965\u001b[0m, in \u001b[0;36mGroupBy.__init__\u001b[1;34m(self, obj, keys, axis, level, grouper, exclusions, selection, as_index, sort, group_keys, squeeze, observed, mutated, dropna)\u001b[0m\n\u001b[0;32m    962\u001b[0m \u001b[38;5;28;01mif\u001b[39;00m grouper \u001b[38;5;129;01mis\u001b[39;00m \u001b[38;5;28;01mNone\u001b[39;00m:\n\u001b[0;32m    963\u001b[0m     \u001b[38;5;28;01mfrom\u001b[39;00m \u001b[38;5;21;01mpandas\u001b[39;00m\u001b[38;5;21;01m.\u001b[39;00m\u001b[38;5;21;01mcore\u001b[39;00m\u001b[38;5;21;01m.\u001b[39;00m\u001b[38;5;21;01mgroupby\u001b[39;00m\u001b[38;5;21;01m.\u001b[39;00m\u001b[38;5;21;01mgrouper\u001b[39;00m \u001b[38;5;28;01mimport\u001b[39;00m get_grouper\n\u001b[1;32m--> 965\u001b[0m     grouper, exclusions, obj \u001b[38;5;241m=\u001b[39m \u001b[43mget_grouper\u001b[49m\u001b[43m(\u001b[49m\n\u001b[0;32m    966\u001b[0m \u001b[43m        \u001b[49m\u001b[43mobj\u001b[49m\u001b[43m,\u001b[49m\n\u001b[0;32m    967\u001b[0m \u001b[43m        \u001b[49m\u001b[43mkeys\u001b[49m\u001b[43m,\u001b[49m\n\u001b[0;32m    968\u001b[0m \u001b[43m        \u001b[49m\u001b[43maxis\u001b[49m\u001b[38;5;241;43m=\u001b[39;49m\u001b[43maxis\u001b[49m\u001b[43m,\u001b[49m\n\u001b[0;32m    969\u001b[0m \u001b[43m        \u001b[49m\u001b[43mlevel\u001b[49m\u001b[38;5;241;43m=\u001b[39;49m\u001b[43mlevel\u001b[49m\u001b[43m,\u001b[49m\n\u001b[0;32m    970\u001b[0m \u001b[43m        \u001b[49m\u001b[43msort\u001b[49m\u001b[38;5;241;43m=\u001b[39;49m\u001b[43msort\u001b[49m\u001b[43m,\u001b[49m\n\u001b[0;32m    971\u001b[0m \u001b[43m        \u001b[49m\u001b[43mobserved\u001b[49m\u001b[38;5;241;43m=\u001b[39;49m\u001b[43mobserved\u001b[49m\u001b[43m,\u001b[49m\n\u001b[0;32m    972\u001b[0m \u001b[43m        \u001b[49m\u001b[43mmutated\u001b[49m\u001b[38;5;241;43m=\u001b[39;49m\u001b[38;5;28;43mself\u001b[39;49m\u001b[38;5;241;43m.\u001b[39;49m\u001b[43mmutated\u001b[49m\u001b[43m,\u001b[49m\n\u001b[0;32m    973\u001b[0m \u001b[43m        \u001b[49m\u001b[43mdropna\u001b[49m\u001b[38;5;241;43m=\u001b[39;49m\u001b[38;5;28;43mself\u001b[39;49m\u001b[38;5;241;43m.\u001b[39;49m\u001b[43mdropna\u001b[49m\u001b[43m,\u001b[49m\n\u001b[0;32m    974\u001b[0m \u001b[43m    \u001b[49m\u001b[43m)\u001b[49m\n\u001b[0;32m    976\u001b[0m \u001b[38;5;28mself\u001b[39m\u001b[38;5;241m.\u001b[39mobj \u001b[38;5;241m=\u001b[39m obj\n\u001b[0;32m    977\u001b[0m \u001b[38;5;28mself\u001b[39m\u001b[38;5;241m.\u001b[39maxis \u001b[38;5;241m=\u001b[39m obj\u001b[38;5;241m.\u001b[39m_get_axis_number(axis)\n",
      "File \u001b[1;32mc:\\Python311\\Lib\\site-packages\\pandas\\core\\groupby\\grouper.py:888\u001b[0m, in \u001b[0;36mget_grouper\u001b[1;34m(obj, key, axis, level, sort, observed, mutated, validate, dropna)\u001b[0m\n\u001b[0;32m    886\u001b[0m         in_axis, level, gpr \u001b[38;5;241m=\u001b[39m \u001b[38;5;28;01mFalse\u001b[39;00m, gpr, \u001b[38;5;28;01mNone\u001b[39;00m\n\u001b[0;32m    887\u001b[0m     \u001b[38;5;28;01melse\u001b[39;00m:\n\u001b[1;32m--> 888\u001b[0m         \u001b[38;5;28;01mraise\u001b[39;00m \u001b[38;5;167;01mKeyError\u001b[39;00m(gpr)\n\u001b[0;32m    889\u001b[0m \u001b[38;5;28;01melif\u001b[39;00m \u001b[38;5;28misinstance\u001b[39m(gpr, Grouper) \u001b[38;5;129;01mand\u001b[39;00m gpr\u001b[38;5;241m.\u001b[39mkey \u001b[38;5;129;01mis\u001b[39;00m \u001b[38;5;129;01mnot\u001b[39;00m \u001b[38;5;28;01mNone\u001b[39;00m:\n\u001b[0;32m    890\u001b[0m     \u001b[38;5;66;03m# Add key to exclusions\u001b[39;00m\n\u001b[0;32m    891\u001b[0m     exclusions\u001b[38;5;241m.\u001b[39madd(gpr\u001b[38;5;241m.\u001b[39mkey)\n",
      "\u001b[1;31mKeyError\u001b[0m: 'GRUPO_FN'"
     ]
    }
   ],
   "source": [
    "print(train_data.groupby('GRUPO_FN', as_index=False)['MTO_PIA'].mean().sort_values('MTO_PIA'));"
   ]
  },
  {
   "cell_type": "markdown",
   "metadata": {},
   "source": [
    "Con el promedio mostrado para cada único grupo funcional, podemos notar que para el grupo 4 tenemos un mínimo promedio, mientras que para el código 1 tenemos una alta prioridad, pues tiene el promedio de MTO_PIA más alto. \n",
    "\n",
    "Por otro lado la mediana tiene a 10,000 como valor que divide el conjunto de datos en dos partes iguales, la mitad de datos cae por debajo y la otra mitad por encima."
   ]
  },
  {
   "cell_type": "code",
   "execution_count": null,
   "metadata": {},
   "outputs": [
    {
     "name": "stdout",
     "output_type": "stream",
     "text": [
      "      PROGRAMA_PPTAL  ACT_OBRA_ACCINV  GRUPO_FN  META  AVAN_FISICO_SEM  \\\n",
      "0                  1                1         1     1                1   \n",
      "1                  1                1         1     2                1   \n",
      "2                  2                2         2     3                2   \n",
      "3                  1                1         1     4                1   \n",
      "4                  1                1         1     5                1   \n",
      "...              ...              ...       ...   ...              ...   \n",
      "1459               2                2         2    23               12   \n",
      "1460               2                2         2    10               12   \n",
      "1461               2                2         2    17               12   \n",
      "1462               2                2         2     6               12   \n",
      "1463               2                2         2    25               12   \n",
      "\n",
      "      DIVISION_FN  DEPARTAMENTO  PROVINCIA  DISTRITO  GENERICA  SUBGENERICA  \\\n",
      "0               1             1          1         1         1            1   \n",
      "1               1             2          2         1         1            1   \n",
      "2               2             3          3         1         1            1   \n",
      "3               1             4          4         2         1            1   \n",
      "4               1             1          5         1         1            1   \n",
      "...           ...           ...        ...       ...       ...          ...   \n",
      "1459            2            11         12         1         1            2   \n",
      "1460            2             4         27        11         1            1   \n",
      "1461            2             4          4         2         1            1   \n",
      "1462            2             5          6         1         1            1   \n",
      "1463            2             1          5         9         1            2   \n",
      "\n",
      "      SUBGENERICA_DET  ESPECIFICA  ESPECIFICA_DET  MTO_PIA  \n",
      "0                   1           1               1        0  \n",
      "1                   2           2               2      805  \n",
      "2                   3           3               3        0  \n",
      "3                   1           1               4        0  \n",
      "4                   4           4               5     8816  \n",
      "...               ...         ...             ...      ...  \n",
      "1459               12          14              36    12779  \n",
      "1460                9          19              32      180  \n",
      "1461                4          24              53    31447  \n",
      "1462                7          13              21     2250  \n",
      "1463                6          25              42     5569  \n",
      "\n",
      "[1464 rows x 15 columns]\n"
     ]
    }
   ],
   "source": [
    "\n"
   ]
  },
  {
   "cell_type": "code",
   "execution_count": null,
   "metadata": {},
   "outputs": [],
   "source": [
    "train_data.to_csv('./db/trainDataModified.csv', index=False);"
   ]
  }
 ],
 "metadata": {
  "kernelspec": {
   "display_name": "Python 3 (ipykernel)",
   "language": "python",
   "name": "python3"
  },
  "language_info": {
   "codemirror_mode": {
    "name": "ipython",
    "version": 3
   },
   "file_extension": ".py",
   "mimetype": "text/x-python",
   "name": "python",
   "nbconvert_exporter": "python",
   "pygments_lexer": "ipython3",
   "version": "3.11.0"
  }
 },
 "nbformat": 4,
 "nbformat_minor": 4
}
