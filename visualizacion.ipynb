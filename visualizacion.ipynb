{
 "cells": [
  {
   "cell_type": "code",
   "execution_count": 2,
   "metadata": {},
   "outputs": [],
   "source": [
    "import numpy as np \n",
    "import pandas as pd \n",
    "import seaborn as sns\n",
    "import matplotlib.pyplot as plt\n",
    "\n",
    "sns.set_theme(rc={'figure.figsize':(20,10)})"
   ]
  },
  {
   "cell_type": "markdown",
   "metadata": {},
   "source": [
    "Se nos pide predecir la variable MTO_PIA. Pero, ¿que es esta variable?. Viendo dentro de la metadata (data sobre la data) observamos que esta variable"
   ]
  },
  {
   "cell_type": "code",
   "execution_count": 3,
   "metadata": {},
   "outputs": [],
   "source": [
    "meta_data_df=pd.read_csv(\"data/metaData.csv\")"
   ]
  },
  {
   "cell_type": "code",
   "execution_count": 4,
   "metadata": {},
   "outputs": [
    {
     "data": {
      "text/html": [
       "<div>\n",
       "<style scoped>\n",
       "    .dataframe tbody tr th:only-of-type {\n",
       "        vertical-align: middle;\n",
       "    }\n",
       "\n",
       "    .dataframe tbody tr th {\n",
       "        vertical-align: top;\n",
       "    }\n",
       "\n",
       "    .dataframe thead th {\n",
       "        text-align: right;\n",
       "    }\n",
       "</style>\n",
       "<table border=\"1\" class=\"dataframe\">\n",
       "  <thead>\n",
       "    <tr style=\"text-align: right;\">\n",
       "      <th></th>\n",
       "      <th>Variable</th>\n",
       "      <th>Descripción</th>\n",
       "      <th>Tipo de dato</th>\n",
       "      <th>Tamaño</th>\n",
       "      <th>Recurso relacionado</th>\n",
       "      <th>Información Adicional</th>\n",
       "    </tr>\n",
       "  </thead>\n",
       "  <tbody>\n",
       "    <tr>\n",
       "      <th>35</th>\n",
       "      <td>MTO_PIA</td>\n",
       "      <td>Monto asignado de Presupuesto Institucional de Apertura.</td>\n",
       "      <td>Numérico</td>\n",
       "      <td>10</td>\n",
       "      <td>NaN</td>\n",
       "      <td>EJEMPLO: 12345.67</td>\n",
       "    </tr>\n",
       "  </tbody>\n",
       "</table>\n",
       "</div>"
      ],
      "text/plain": [
       "   Variable                                               Descripción  \\\n",
       "35  MTO_PIA  Monto asignado de Presupuesto Institucional de Apertura.   \n",
       "\n",
       "   Tipo de dato  Tamaño Recurso relacionado Información Adicional   \n",
       "35     Numérico      10                 NaN      EJEMPLO: 12345.67  "
      ]
     },
     "execution_count": 4,
     "metadata": {},
     "output_type": "execute_result"
    }
   ],
   "source": [
    "pd.set_option('display.max_colwidth', None)\n",
    "meta_data_df.loc[meta_data_df[\"Variable\"] == \"MTO_PIA\"]"
   ]
  },
  {
   "cell_type": "markdown",
   "metadata": {},
   "source": [
    "Se nos pide predecir el presupuesto Institucional de Apertura dada las demas variables. ¿Que variables influencian sobre el presupuesto inicial?."
   ]
  },
  {
   "cell_type": "code",
   "execution_count": 5,
   "metadata": {},
   "outputs": [
    {
     "data": {
      "text/html": [
       "<div>\n",
       "<style scoped>\n",
       "    .dataframe tbody tr th:only-of-type {\n",
       "        vertical-align: middle;\n",
       "    }\n",
       "\n",
       "    .dataframe tbody tr th {\n",
       "        vertical-align: top;\n",
       "    }\n",
       "\n",
       "    .dataframe thead th {\n",
       "        text-align: right;\n",
       "    }\n",
       "</style>\n",
       "<table border=\"1\" class=\"dataframe\">\n",
       "  <thead>\n",
       "    <tr style=\"text-align: right;\">\n",
       "      <th></th>\n",
       "      <th>Variable</th>\n",
       "      <th>Descripción</th>\n",
       "      <th>Tipo de dato</th>\n",
       "      <th>Tamaño</th>\n",
       "      <th>Recurso relacionado</th>\n",
       "      <th>Información Adicional</th>\n",
       "    </tr>\n",
       "  </thead>\n",
       "  <tbody>\n",
       "    <tr>\n",
       "      <th>35</th>\n",
       "      <td>MTO_PIA</td>\n",
       "      <td>Monto asignado de Presupuesto Institucional de Apertura.</td>\n",
       "      <td>Numérico</td>\n",
       "      <td>10</td>\n",
       "      <td>NaN</td>\n",
       "      <td>EJEMPLO: 12345.67</td>\n",
       "    </tr>\n",
       "    <tr>\n",
       "      <th>36</th>\n",
       "      <td>MTO_MODIFICACIONES</td>\n",
       "      <td>Monto de cambios en los créditos presupuestarios, tanto en su cuantía como en el nivel Institucional (créditos suplementarios y transferencias de partidas) y, en su caso, a nivel funcional programático (habilitaciones y anulaciones).</td>\n",
       "      <td>Numérico</td>\n",
       "      <td>10</td>\n",
       "      <td>NaN</td>\n",
       "      <td>EJEMPLO: 12345.67</td>\n",
       "    </tr>\n",
       "    <tr>\n",
       "      <th>37</th>\n",
       "      <td>MTO_PIM</td>\n",
       "      <td>Monto de Presupuesto Institucional Modificado.</td>\n",
       "      <td>Numérico</td>\n",
       "      <td>10</td>\n",
       "      <td>NaN</td>\n",
       "      <td>EJEMPLO: 12345.67</td>\n",
       "    </tr>\n",
       "    <tr>\n",
       "      <th>38</th>\n",
       "      <td>MTO_CERTIFICADO</td>\n",
       "      <td>Monto del presupuesto certificado</td>\n",
       "      <td>Numérico</td>\n",
       "      <td>10</td>\n",
       "      <td>NaN</td>\n",
       "      <td>EJEMPLO: 12345.67  -  valor acumulado del certificacion que se realiza de manera permanente</td>\n",
       "    </tr>\n",
       "    <tr>\n",
       "      <th>39</th>\n",
       "      <td>MTO_COMPRO_ANUAL</td>\n",
       "      <td>Monto del presupuesto utilizado en fase Compromiso anual, al nivel mostrado.</td>\n",
       "      <td>Numérico</td>\n",
       "      <td>10</td>\n",
       "      <td>NaN</td>\n",
       "      <td>EJEMPLO: 12345.67</td>\n",
       "    </tr>\n",
       "    <tr>\n",
       "      <th>40</th>\n",
       "      <td>MTO_AT_COMP_01</td>\n",
       "      <td>Monto del presupuesto utilizado en fase Compromiso mensual, al mes de enero</td>\n",
       "      <td>Numérico</td>\n",
       "      <td>10</td>\n",
       "      <td>NaN</td>\n",
       "      <td>EJEMPLO: 12345.67</td>\n",
       "    </tr>\n",
       "    <tr>\n",
       "      <th>41</th>\n",
       "      <td>MTO_AT_COMP_02</td>\n",
       "      <td>Monto del presupuesto utilizado en fase Compromiso mensual, al mes de febrero</td>\n",
       "      <td>Numérico</td>\n",
       "      <td>10</td>\n",
       "      <td>NaN</td>\n",
       "      <td>EJEMPLO: 12345.67</td>\n",
       "    </tr>\n",
       "    <tr>\n",
       "      <th>42</th>\n",
       "      <td>MTO_AT_COMP_03</td>\n",
       "      <td>Monto del presupuesto utilizado en fase Compromiso mensual, al mes de marzo</td>\n",
       "      <td>Numérico</td>\n",
       "      <td>10</td>\n",
       "      <td>NaN</td>\n",
       "      <td>EJEMPLO: 12345.67</td>\n",
       "    </tr>\n",
       "    <tr>\n",
       "      <th>43</th>\n",
       "      <td>MTO_AT_COMP_04</td>\n",
       "      <td>Monto del presupuesto utilizado en fase Compromiso mensual, al mes de abril</td>\n",
       "      <td>Numérico</td>\n",
       "      <td>10</td>\n",
       "      <td>NaN</td>\n",
       "      <td>EJEMPLO: 12345.67</td>\n",
       "    </tr>\n",
       "    <tr>\n",
       "      <th>44</th>\n",
       "      <td>MTO_AT_COMP_05</td>\n",
       "      <td>Monto del presupuesto utilizado en fase Compromiso mensual, al mes de mayo</td>\n",
       "      <td>Numérico</td>\n",
       "      <td>10</td>\n",
       "      <td>NaN</td>\n",
       "      <td>EJEMPLO: 12345.67</td>\n",
       "    </tr>\n",
       "    <tr>\n",
       "      <th>45</th>\n",
       "      <td>MTO_AT_COMP_06</td>\n",
       "      <td>Monto del presupuesto utilizado en fase Compromiso mensual, al mes de junio</td>\n",
       "      <td>Numérico</td>\n",
       "      <td>10</td>\n",
       "      <td>NaN</td>\n",
       "      <td>EJEMPLO: 12345.67</td>\n",
       "    </tr>\n",
       "    <tr>\n",
       "      <th>46</th>\n",
       "      <td>MTO_AT_COMP_07</td>\n",
       "      <td>Monto del presupuesto utilizado en fase Compromiso mensual, al mes de julio</td>\n",
       "      <td>Numérico</td>\n",
       "      <td>10</td>\n",
       "      <td>NaN</td>\n",
       "      <td>EJEMPLO: 12345.67</td>\n",
       "    </tr>\n",
       "    <tr>\n",
       "      <th>47</th>\n",
       "      <td>MTO_AT_COMP_08</td>\n",
       "      <td>Monto del presupuesto utilizado en fase Compromiso mensual, al mes de agosto</td>\n",
       "      <td>Numérico</td>\n",
       "      <td>10</td>\n",
       "      <td>NaN</td>\n",
       "      <td>EJEMPLO: 12345.67</td>\n",
       "    </tr>\n",
       "    <tr>\n",
       "      <th>48</th>\n",
       "      <td>MTO_AT_COMP_09</td>\n",
       "      <td>Monto del presupuesto utilizado en fase Compromiso mensual, al mes de setiembre</td>\n",
       "      <td>Numérico</td>\n",
       "      <td>10</td>\n",
       "      <td>NaN</td>\n",
       "      <td>EJEMPLO: 12345.67</td>\n",
       "    </tr>\n",
       "    <tr>\n",
       "      <th>49</th>\n",
       "      <td>MTO_AT_COMP_10</td>\n",
       "      <td>Monto del presupuesto utilizado en fase Compromiso mensual, al mes de octubre</td>\n",
       "      <td>Numérico</td>\n",
       "      <td>10</td>\n",
       "      <td>NaN</td>\n",
       "      <td>EJEMPLO: 12345.67</td>\n",
       "    </tr>\n",
       "    <tr>\n",
       "      <th>50</th>\n",
       "      <td>MTO_AT_COMP_11</td>\n",
       "      <td>Monto del presupuesto utilizado en fase Compromiso mensual, al mes de noviembre</td>\n",
       "      <td>Numérico</td>\n",
       "      <td>10</td>\n",
       "      <td>NaN</td>\n",
       "      <td>EJEMPLO: 12345.67</td>\n",
       "    </tr>\n",
       "    <tr>\n",
       "      <th>51</th>\n",
       "      <td>MTO_AT_COMP_12</td>\n",
       "      <td>Monto del presupuesto utilizado en fase Compromiso mensual, al mes de diciembre</td>\n",
       "      <td>Numérico</td>\n",
       "      <td>10</td>\n",
       "      <td>NaN</td>\n",
       "      <td>EJEMPLO: 12345.67</td>\n",
       "    </tr>\n",
       "    <tr>\n",
       "      <th>52</th>\n",
       "      <td>MTO_DEVENGA_01</td>\n",
       "      <td>Monto ejecutado como fase Devengado mensual, al mes de enero</td>\n",
       "      <td>Numérico</td>\n",
       "      <td>10</td>\n",
       "      <td>NaN</td>\n",
       "      <td>EJEMPLO: 12345.67</td>\n",
       "    </tr>\n",
       "    <tr>\n",
       "      <th>53</th>\n",
       "      <td>MTO_DEVENGA_02</td>\n",
       "      <td>Monto ejecutado como fase Devengado mensual, al mes de febrero</td>\n",
       "      <td>Numérico</td>\n",
       "      <td>10</td>\n",
       "      <td>NaN</td>\n",
       "      <td>EJEMPLO: 12345.67</td>\n",
       "    </tr>\n",
       "    <tr>\n",
       "      <th>54</th>\n",
       "      <td>MTO_DEVENGA_03</td>\n",
       "      <td>Monto ejecutado como fase Devengado mensual, al mes de marzo</td>\n",
       "      <td>Numérico</td>\n",
       "      <td>10</td>\n",
       "      <td>NaN</td>\n",
       "      <td>EJEMPLO: 12345.67</td>\n",
       "    </tr>\n",
       "    <tr>\n",
       "      <th>55</th>\n",
       "      <td>MTO_DEVENGA_04</td>\n",
       "      <td>Monto ejecutado como fase Devengado mensual, al mes de abril</td>\n",
       "      <td>Numérico</td>\n",
       "      <td>10</td>\n",
       "      <td>NaN</td>\n",
       "      <td>EJEMPLO: 12345.67</td>\n",
       "    </tr>\n",
       "    <tr>\n",
       "      <th>56</th>\n",
       "      <td>MTO_DEVENGA_05</td>\n",
       "      <td>Monto ejecutado como fase Devengado mensual, al mes de mayo</td>\n",
       "      <td>Numérico</td>\n",
       "      <td>10</td>\n",
       "      <td>NaN</td>\n",
       "      <td>EJEMPLO: 12345.67</td>\n",
       "    </tr>\n",
       "    <tr>\n",
       "      <th>57</th>\n",
       "      <td>MTO_DEVENGA_06</td>\n",
       "      <td>Monto ejecutado como fase Devengado mensual, al mes de junio</td>\n",
       "      <td>Numérico</td>\n",
       "      <td>10</td>\n",
       "      <td>NaN</td>\n",
       "      <td>EJEMPLO: 12345.67</td>\n",
       "    </tr>\n",
       "    <tr>\n",
       "      <th>58</th>\n",
       "      <td>MTO_DEVENGA_07</td>\n",
       "      <td>Monto ejecutado como fase Devengado mensual, al mes de julio</td>\n",
       "      <td>Numérico</td>\n",
       "      <td>10</td>\n",
       "      <td>NaN</td>\n",
       "      <td>EJEMPLO: 12345.67</td>\n",
       "    </tr>\n",
       "    <tr>\n",
       "      <th>59</th>\n",
       "      <td>MTO_DEVENGA_08</td>\n",
       "      <td>Monto ejecutado como fase Devengado mensual, al mes de agosto</td>\n",
       "      <td>Numérico</td>\n",
       "      <td>10</td>\n",
       "      <td>NaN</td>\n",
       "      <td>EJEMPLO: 12345.67</td>\n",
       "    </tr>\n",
       "    <tr>\n",
       "      <th>60</th>\n",
       "      <td>MTO_DEVENGA_09</td>\n",
       "      <td>Monto ejecutado como fase Devengado mensual, al mes de setiembre</td>\n",
       "      <td>Numérico</td>\n",
       "      <td>10</td>\n",
       "      <td>NaN</td>\n",
       "      <td>EJEMPLO: 12345.67</td>\n",
       "    </tr>\n",
       "    <tr>\n",
       "      <th>61</th>\n",
       "      <td>MTO_DEVENGA_10</td>\n",
       "      <td>Monto ejecutado como fase Devengado mensual, al mes de octubre</td>\n",
       "      <td>Numérico</td>\n",
       "      <td>10</td>\n",
       "      <td>NaN</td>\n",
       "      <td>EJEMPLO: 12345.67</td>\n",
       "    </tr>\n",
       "    <tr>\n",
       "      <th>62</th>\n",
       "      <td>MTO_DEVENGA_11</td>\n",
       "      <td>Monto ejecutado como fase Devengado mensual, al mes de noviembre</td>\n",
       "      <td>Numérico</td>\n",
       "      <td>10</td>\n",
       "      <td>NaN</td>\n",
       "      <td>EJEMPLO: 12345.67</td>\n",
       "    </tr>\n",
       "    <tr>\n",
       "      <th>63</th>\n",
       "      <td>MTO_DEVENGA_12</td>\n",
       "      <td>Monto ejecutado como fase Devengado mensual, al mes de diciembre</td>\n",
       "      <td>Numérico</td>\n",
       "      <td>10</td>\n",
       "      <td>NaN</td>\n",
       "      <td>EJEMPLO: 12345.67</td>\n",
       "    </tr>\n",
       "    <tr>\n",
       "      <th>64</th>\n",
       "      <td>MTO_GIRADO_01</td>\n",
       "      <td>Monto ejecutado como fase girado mensual, al mes de enero</td>\n",
       "      <td>Numérico</td>\n",
       "      <td>10</td>\n",
       "      <td>NaN</td>\n",
       "      <td>EJEMPLO: 12345.67</td>\n",
       "    </tr>\n",
       "    <tr>\n",
       "      <th>65</th>\n",
       "      <td>MTO_GIRADO_02</td>\n",
       "      <td>Monto ejecutado como fase girado mensual, al mes de febrero</td>\n",
       "      <td>Numérico</td>\n",
       "      <td>10</td>\n",
       "      <td>NaN</td>\n",
       "      <td>EJEMPLO: 12345.67</td>\n",
       "    </tr>\n",
       "    <tr>\n",
       "      <th>66</th>\n",
       "      <td>MTO_GIRADO_03</td>\n",
       "      <td>Monto ejecutado como fase girado mensual, al mes de marzo</td>\n",
       "      <td>Numérico</td>\n",
       "      <td>10</td>\n",
       "      <td>NaN</td>\n",
       "      <td>EJEMPLO: 12345.67</td>\n",
       "    </tr>\n",
       "    <tr>\n",
       "      <th>67</th>\n",
       "      <td>MTO_GIRADO_04</td>\n",
       "      <td>Monto ejecutado como fase girado mensual, al mes de abril</td>\n",
       "      <td>Numérico</td>\n",
       "      <td>10</td>\n",
       "      <td>NaN</td>\n",
       "      <td>EJEMPLO: 12345.67</td>\n",
       "    </tr>\n",
       "    <tr>\n",
       "      <th>68</th>\n",
       "      <td>MTO_GIRADO_05</td>\n",
       "      <td>Monto ejecutado como fase girado mensual, al mes de mayo</td>\n",
       "      <td>Numérico</td>\n",
       "      <td>10</td>\n",
       "      <td>NaN</td>\n",
       "      <td>EJEMPLO: 12345.67</td>\n",
       "    </tr>\n",
       "    <tr>\n",
       "      <th>69</th>\n",
       "      <td>MTO_GIRADO_06</td>\n",
       "      <td>Monto ejecutado como fase girado mensual, al mes de junio</td>\n",
       "      <td>Numérico</td>\n",
       "      <td>10</td>\n",
       "      <td>NaN</td>\n",
       "      <td>EJEMPLO: 12345.67</td>\n",
       "    </tr>\n",
       "    <tr>\n",
       "      <th>70</th>\n",
       "      <td>MTO_GIRADO_07</td>\n",
       "      <td>Monto ejecutado como fase girado mensual, al mes de julio</td>\n",
       "      <td>Numérico</td>\n",
       "      <td>10</td>\n",
       "      <td>NaN</td>\n",
       "      <td>EJEMPLO: 12345.67</td>\n",
       "    </tr>\n",
       "    <tr>\n",
       "      <th>71</th>\n",
       "      <td>MTO_GIRADO_08</td>\n",
       "      <td>Monto ejecutado como fase girado mensual, al mes de agosto</td>\n",
       "      <td>Numérico</td>\n",
       "      <td>10</td>\n",
       "      <td>NaN</td>\n",
       "      <td>EJEMPLO: 12345.67</td>\n",
       "    </tr>\n",
       "    <tr>\n",
       "      <th>72</th>\n",
       "      <td>MTO_GIRADO_09</td>\n",
       "      <td>Monto ejecutado como fase girado mensual, al mes de setiembre</td>\n",
       "      <td>Numérico</td>\n",
       "      <td>10</td>\n",
       "      <td>NaN</td>\n",
       "      <td>EJEMPLO: 12345.67</td>\n",
       "    </tr>\n",
       "    <tr>\n",
       "      <th>73</th>\n",
       "      <td>MTO_GIRADO_10</td>\n",
       "      <td>Monto ejecutado como fase girado mensual, al mes de octubre</td>\n",
       "      <td>Numérico</td>\n",
       "      <td>10</td>\n",
       "      <td>NaN</td>\n",
       "      <td>EJEMPLO: 12345.67</td>\n",
       "    </tr>\n",
       "  </tbody>\n",
       "</table>\n",
       "</div>"
      ],
      "text/plain": [
       "              Variable  \\\n",
       "35             MTO_PIA   \n",
       "36  MTO_MODIFICACIONES   \n",
       "37             MTO_PIM   \n",
       "38     MTO_CERTIFICADO   \n",
       "39    MTO_COMPRO_ANUAL   \n",
       "40      MTO_AT_COMP_01   \n",
       "41      MTO_AT_COMP_02   \n",
       "42      MTO_AT_COMP_03   \n",
       "43      MTO_AT_COMP_04   \n",
       "44      MTO_AT_COMP_05   \n",
       "45      MTO_AT_COMP_06   \n",
       "46      MTO_AT_COMP_07   \n",
       "47      MTO_AT_COMP_08   \n",
       "48      MTO_AT_COMP_09   \n",
       "49      MTO_AT_COMP_10   \n",
       "50      MTO_AT_COMP_11   \n",
       "51      MTO_AT_COMP_12   \n",
       "52      MTO_DEVENGA_01   \n",
       "53      MTO_DEVENGA_02   \n",
       "54      MTO_DEVENGA_03   \n",
       "55      MTO_DEVENGA_04   \n",
       "56      MTO_DEVENGA_05   \n",
       "57      MTO_DEVENGA_06   \n",
       "58      MTO_DEVENGA_07   \n",
       "59      MTO_DEVENGA_08   \n",
       "60      MTO_DEVENGA_09   \n",
       "61      MTO_DEVENGA_10   \n",
       "62      MTO_DEVENGA_11   \n",
       "63      MTO_DEVENGA_12   \n",
       "64       MTO_GIRADO_01   \n",
       "65       MTO_GIRADO_02   \n",
       "66       MTO_GIRADO_03   \n",
       "67       MTO_GIRADO_04   \n",
       "68       MTO_GIRADO_05   \n",
       "69       MTO_GIRADO_06   \n",
       "70       MTO_GIRADO_07   \n",
       "71       MTO_GIRADO_08   \n",
       "72       MTO_GIRADO_09   \n",
       "73       MTO_GIRADO_10   \n",
       "\n",
       "                                                                                                                                                                                                                                   Descripción  \\\n",
       "35                                                                                                                                                                                    Monto asignado de Presupuesto Institucional de Apertura.   \n",
       "36  Monto de cambios en los créditos presupuestarios, tanto en su cuantía como en el nivel Institucional (créditos suplementarios y transferencias de partidas) y, en su caso, a nivel funcional programático (habilitaciones y anulaciones).    \n",
       "37                                                                                                                                                                                              Monto de Presupuesto Institucional Modificado.   \n",
       "38                                                                                                                                                                                                           Monto del presupuesto certificado   \n",
       "39                                                                                                                                                                Monto del presupuesto utilizado en fase Compromiso anual, al nivel mostrado.   \n",
       "40                                                                                                                                                                 Monto del presupuesto utilizado en fase Compromiso mensual, al mes de enero   \n",
       "41                                                                                                                                                               Monto del presupuesto utilizado en fase Compromiso mensual, al mes de febrero   \n",
       "42                                                                                                                                                                 Monto del presupuesto utilizado en fase Compromiso mensual, al mes de marzo   \n",
       "43                                                                                                                                                                 Monto del presupuesto utilizado en fase Compromiso mensual, al mes de abril   \n",
       "44                                                                                                                                                                  Monto del presupuesto utilizado en fase Compromiso mensual, al mes de mayo   \n",
       "45                                                                                                                                                                 Monto del presupuesto utilizado en fase Compromiso mensual, al mes de junio   \n",
       "46                                                                                                                                                                 Monto del presupuesto utilizado en fase Compromiso mensual, al mes de julio   \n",
       "47                                                                                                                                                                Monto del presupuesto utilizado en fase Compromiso mensual, al mes de agosto   \n",
       "48                                                                                                                                                             Monto del presupuesto utilizado en fase Compromiso mensual, al mes de setiembre   \n",
       "49                                                                                                                                                               Monto del presupuesto utilizado en fase Compromiso mensual, al mes de octubre   \n",
       "50                                                                                                                                                             Monto del presupuesto utilizado en fase Compromiso mensual, al mes de noviembre   \n",
       "51                                                                                                                                                             Monto del presupuesto utilizado en fase Compromiso mensual, al mes de diciembre   \n",
       "52                                                                                                                                                                                Monto ejecutado como fase Devengado mensual, al mes de enero   \n",
       "53                                                                                                                                                                              Monto ejecutado como fase Devengado mensual, al mes de febrero   \n",
       "54                                                                                                                                                                                Monto ejecutado como fase Devengado mensual, al mes de marzo   \n",
       "55                                                                                                                                                                                Monto ejecutado como fase Devengado mensual, al mes de abril   \n",
       "56                                                                                                                                                                                 Monto ejecutado como fase Devengado mensual, al mes de mayo   \n",
       "57                                                                                                                                                                                Monto ejecutado como fase Devengado mensual, al mes de junio   \n",
       "58                                                                                                                                                                                Monto ejecutado como fase Devengado mensual, al mes de julio   \n",
       "59                                                                                                                                                                               Monto ejecutado como fase Devengado mensual, al mes de agosto   \n",
       "60                                                                                                                                                                            Monto ejecutado como fase Devengado mensual, al mes de setiembre   \n",
       "61                                                                                                                                                                              Monto ejecutado como fase Devengado mensual, al mes de octubre   \n",
       "62                                                                                                                                                                            Monto ejecutado como fase Devengado mensual, al mes de noviembre   \n",
       "63                                                                                                                                                                            Monto ejecutado como fase Devengado mensual, al mes de diciembre   \n",
       "64                                                                                                                                                                                   Monto ejecutado como fase girado mensual, al mes de enero   \n",
       "65                                                                                                                                                                                 Monto ejecutado como fase girado mensual, al mes de febrero   \n",
       "66                                                                                                                                                                                   Monto ejecutado como fase girado mensual, al mes de marzo   \n",
       "67                                                                                                                                                                                   Monto ejecutado como fase girado mensual, al mes de abril   \n",
       "68                                                                                                                                                                                    Monto ejecutado como fase girado mensual, al mes de mayo   \n",
       "69                                                                                                                                                                                   Monto ejecutado como fase girado mensual, al mes de junio   \n",
       "70                                                                                                                                                                                   Monto ejecutado como fase girado mensual, al mes de julio   \n",
       "71                                                                                                                                                                                  Monto ejecutado como fase girado mensual, al mes de agosto   \n",
       "72                                                                                                                                                                               Monto ejecutado como fase girado mensual, al mes de setiembre   \n",
       "73                                                                                                                                                                                 Monto ejecutado como fase girado mensual, al mes de octubre   \n",
       "\n",
       "   Tipo de dato  Tamaño Recurso relacionado  \\\n",
       "35     Numérico      10                 NaN   \n",
       "36     Numérico      10                 NaN   \n",
       "37     Numérico      10                 NaN   \n",
       "38     Numérico      10                 NaN   \n",
       "39     Numérico      10                 NaN   \n",
       "40     Numérico      10                 NaN   \n",
       "41     Numérico      10                 NaN   \n",
       "42     Numérico      10                 NaN   \n",
       "43     Numérico      10                 NaN   \n",
       "44     Numérico      10                 NaN   \n",
       "45     Numérico      10                 NaN   \n",
       "46     Numérico      10                 NaN   \n",
       "47     Numérico      10                 NaN   \n",
       "48     Numérico      10                 NaN   \n",
       "49     Numérico      10                 NaN   \n",
       "50     Numérico      10                 NaN   \n",
       "51     Numérico      10                 NaN   \n",
       "52     Numérico      10                 NaN   \n",
       "53     Numérico      10                 NaN   \n",
       "54     Numérico      10                 NaN   \n",
       "55     Numérico      10                 NaN   \n",
       "56     Numérico      10                 NaN   \n",
       "57     Numérico      10                 NaN   \n",
       "58     Numérico      10                 NaN   \n",
       "59     Numérico      10                 NaN   \n",
       "60     Numérico      10                 NaN   \n",
       "61     Numérico      10                 NaN   \n",
       "62     Numérico      10                 NaN   \n",
       "63     Numérico      10                 NaN   \n",
       "64     Numérico      10                 NaN   \n",
       "65     Numérico      10                 NaN   \n",
       "66     Numérico      10                 NaN   \n",
       "67     Numérico      10                 NaN   \n",
       "68     Numérico      10                 NaN   \n",
       "69     Numérico      10                 NaN   \n",
       "70     Numérico      10                 NaN   \n",
       "71     Numérico      10                 NaN   \n",
       "72     Numérico      10                 NaN   \n",
       "73     Numérico      10                 NaN   \n",
       "\n",
       "                                                                         Información Adicional   \n",
       "35                                                                            EJEMPLO: 12345.67  \n",
       "36                                                                            EJEMPLO: 12345.67  \n",
       "37                                                                            EJEMPLO: 12345.67  \n",
       "38  EJEMPLO: 12345.67  -  valor acumulado del certificacion que se realiza de manera permanente  \n",
       "39                                                                            EJEMPLO: 12345.67  \n",
       "40                                                                            EJEMPLO: 12345.67  \n",
       "41                                                                            EJEMPLO: 12345.67  \n",
       "42                                                                            EJEMPLO: 12345.67  \n",
       "43                                                                            EJEMPLO: 12345.67  \n",
       "44                                                                            EJEMPLO: 12345.67  \n",
       "45                                                                            EJEMPLO: 12345.67  \n",
       "46                                                                            EJEMPLO: 12345.67  \n",
       "47                                                                            EJEMPLO: 12345.67  \n",
       "48                                                                            EJEMPLO: 12345.67  \n",
       "49                                                                            EJEMPLO: 12345.67  \n",
       "50                                                                            EJEMPLO: 12345.67  \n",
       "51                                                                            EJEMPLO: 12345.67  \n",
       "52                                                                            EJEMPLO: 12345.67  \n",
       "53                                                                            EJEMPLO: 12345.67  \n",
       "54                                                                            EJEMPLO: 12345.67  \n",
       "55                                                                            EJEMPLO: 12345.67  \n",
       "56                                                                            EJEMPLO: 12345.67  \n",
       "57                                                                            EJEMPLO: 12345.67  \n",
       "58                                                                            EJEMPLO: 12345.67  \n",
       "59                                                                            EJEMPLO: 12345.67  \n",
       "60                                                                            EJEMPLO: 12345.67  \n",
       "61                                                                            EJEMPLO: 12345.67  \n",
       "62                                                                            EJEMPLO: 12345.67  \n",
       "63                                                                            EJEMPLO: 12345.67  \n",
       "64                                                                            EJEMPLO: 12345.67  \n",
       "65                                                                            EJEMPLO: 12345.67  \n",
       "66                                                                            EJEMPLO: 12345.67  \n",
       "67                                                                            EJEMPLO: 12345.67  \n",
       "68                                                                            EJEMPLO: 12345.67  \n",
       "69                                                                            EJEMPLO: 12345.67  \n",
       "70                                                                            EJEMPLO: 12345.67  \n",
       "71                                                                            EJEMPLO: 12345.67  \n",
       "72                                                                            EJEMPLO: 12345.67  \n",
       "73                                                                            EJEMPLO: 12345.67  "
      ]
     },
     "execution_count": 5,
     "metadata": {},
     "output_type": "execute_result"
    }
   ],
   "source": [
    "meta_data_df[35:74]"
   ]
  },
  {
   "cell_type": "code",
   "execution_count": 6,
   "metadata": {},
   "outputs": [],
   "source": [
    "train_data_df=pd.read_csv(\"data/train.csv\")"
   ]
  },
  {
   "cell_type": "code",
   "execution_count": 7,
   "metadata": {},
   "outputs": [
    {
     "name": "stdout",
     "output_type": "stream",
     "text": [
      "['40. DESARROLLO E INCLUSION SOCIAL']\n"
     ]
    }
   ],
   "source": [
    "train_data_df=pd.read_csv(\"data/train.csv\")\n",
    "print(train_data_df[\"SECTOR\"].unique())"
   ]
  },
  {
   "cell_type": "code",
   "execution_count": 8,
   "metadata": {},
   "outputs": [
    {
     "name": "stdout",
     "output_type": "stream",
     "text": [
      "['040. MINISTERIO DE DESARROLLO E INCLUSION SOCIAL']\n"
     ]
    }
   ],
   "source": [
    "\n",
    "print(train_data_df[\"PLIEGO\"].unique())"
   ]
  },
  {
   "cell_type": "code",
   "execution_count": 9,
   "metadata": {},
   "outputs": [
    {
     "name": "stdout",
     "output_type": "stream",
     "text": [
      "['008. PROGRAMA NACIONAL PLATAFORMAS DE ACCION  PARA LA INCLUSION SOCIAL - PAIS']\n"
     ]
    }
   ],
   "source": [
    "\n",
    "print(train_data_df[\"UNIDAD_EJECUTORA\"].unique())"
   ]
  },
  {
   "cell_type": "code",
   "execution_count": 10,
   "metadata": {},
   "outputs": [
    {
     "name": "stdout",
     "output_type": "stream",
     "text": [
      "[1674]\n"
     ]
    }
   ],
   "source": [
    "print(train_data_df[\"SEC_EJEC\"].unique())"
   ]
  },
  {
   "cell_type": "markdown",
   "metadata": {},
   "source": [
    "¿Que valores pueden tomar los datos?"
   ]
  },
  {
   "cell_type": "code",
   "execution_count": 11,
   "metadata": {},
   "outputs": [
    {
     "name": "stdout",
     "output_type": "stream",
     "text": [
      "['9001.ACCIONES CENTRALES'\n",
      " '9002.ASIGNACIONES PRESUPUESTARIAS QUE NO RESULTAN EN PRODUCTOS'\n",
      " '0068.REDUCCION DE VULNERABILIDAD Y ATENCION DE EMERGENCIAS POR DESASTRES']\n"
     ]
    }
   ],
   "source": [
    "print(train_data_df[\"PROGRAMA_PPTAL\"].unique())"
   ]
  },
  {
   "cell_type": "code",
   "execution_count": 12,
   "metadata": {},
   "outputs": [
    {
     "name": "stdout",
     "output_type": "stream",
     "text": [
      "['3.PRODUCTO' '2.PROYECTO']\n"
     ]
    }
   ],
   "source": [
    "print(train_data_df[\"TIPO_PROD_PROY\"].unique())"
   ]
  },
  {
   "cell_type": "code",
   "execution_count": 13,
   "metadata": {},
   "outputs": [
    {
     "name": "stdout",
     "output_type": "stream",
     "text": [
      "['3999999.SIN PRODUCTO'\n",
      " '3000739.POBLACION CON PRACTICAS SEGURAS PARA LA RESILIENCIA'\n",
      " '2176877.CREACION DEL CENTRO DE SERVICIOS DE APOYO AL HABITAT RURAL EN EL C.P. CCANCCOLLY CRUCERO-CARABAYA-PUNO'\n",
      " '2157530.CREACION DEL CENTRO DE SERVICIOS DE APOYO AL HABITAT RURAL EN EL C.P. CENTRAL CCALLA SAN JUAN DE SALINAS-AZANGARO-PUNO'\n",
      " '2176885.CREACION DEL CENTRO DE SERVICIOS DE APOYO AL HABITAT RURAL EN EL C.P. MARNO - LAMPA - LAMPA - PUNO'\n",
      " '2624607.CREACION DEL SERVICIO DEL ESTADO EN POBLACIONES RURALES CON LA PLATAFORMA DE SERVICIOS - TAMBO EN EL CENTRO POBLADO UROS TITINO DEL DISTRITO DE HUATA - PROVINCIA DE PUNO - DEPARTAMENTO DE PUNO'\n",
      " '2176887.CREACION DEL CENTRO DE SERVICIOS DE APOYO AL HABITAT RURAL EN EL SECTOR AMSTA HUATASANI, TILALI, MOHO, PUNO'\n",
      " '2001621.ESTUDIOS DE PRE-INVERSION']\n"
     ]
    }
   ],
   "source": [
    "print(train_data_df[\"PRODUCTO_PROYECTO\"].unique())"
   ]
  },
  {
   "cell_type": "code",
   "execution_count": 14,
   "metadata": {},
   "outputs": [
    {
     "name": "stdout",
     "output_type": "stream",
     "text": [
      "['5.ACTIVIDAD' '6.ACCION DE INVERSION']\n"
     ]
    }
   ],
   "source": [
    "print(train_data_df[\"TIPO_ACT_OBRA_ACCINV\"].unique())"
   ]
  },
  {
   "cell_type": "code",
   "execution_count": 15,
   "metadata": {},
   "outputs": [
    {
     "name": "stdout",
     "output_type": "stream",
     "text": [
      "['5000003.GESTION ADMINISTRATIVA'\n",
      " '5002358.GESTION DE LAS PRESTACIONES SOCIALES'\n",
      " '5001253.TRANSFERENCIA DE RECURSOS PARA LA EJECUCION DE PROYECTOS DE INVERSION'\n",
      " '5000005.GESTION DE RECURSOS HUMANOS'\n",
      " '5000002.CONDUCCION Y ORIENTACION SUPERIOR'\n",
      " '5000004.ASESORAMIENTO TECNICO Y JURIDICO'\n",
      " '5000001.PLANEAMIENTO Y PRESUPUESTO'\n",
      " '5005582.IMPLEMENTACION DE MEDIDAS DE PROTECCION ANTE BAJAS TEMPERATURAS'\n",
      " '6000001.EXPEDIENTE TECNICO' '6000032.ESTUDIOS DE PRE - INVERSION']\n"
     ]
    }
   ],
   "source": [
    "print(train_data_df[\"ACT_OBRA_ACCINV\"].unique())"
   ]
  },
  {
   "cell_type": "code",
   "execution_count": 16,
   "metadata": {},
   "outputs": [
    {
     "name": "stdout",
     "output_type": "stream",
     "text": [
      "['006.GESTION' '051.ASISTENCIA SOCIAL' '004.PLANEAMIENTO GUBERNAMENTAL'\n",
      " '016.GESTION DE RIESGOS Y EMERGENCIAS']\n"
     ]
    }
   ],
   "source": [
    "print(train_data_df[\"DIVISION_FN\"].unique())"
   ]
  },
  {
   "cell_type": "code",
   "execution_count": 17,
   "metadata": {},
   "outputs": [
    {
     "name": "stdout",
     "output_type": "stream",
     "text": [
      "[ 6 20  4  1  7 19 11 10  5 17  8 16 23 15 22 25  3 18 12 13 14 27 21 26\n",
      "  9 24  2]\n"
     ]
    }
   ],
   "source": [
    "print(train_data_df[\"META\"].unique())"
   ]
  },
  {
   "cell_type": "code",
   "execution_count": 18,
   "metadata": {},
   "outputs": [
    {
     "name": "stdout",
     "output_type": "stream",
     "text": [
      "['0000888.GESTION ADMINISTRATIVA'\n",
      " '0235454.MANTENIMIENTO Y OPERATIVIDAD DE LAS PLATAFORMAS DE SERVICIOS FIJOS (TAMBOS)'\n",
      " '0417290.CREACION DEL CENTRO DE SERVICIOS DE APOYO AL HABITAT RURAL EN EL CENTRO POBLADO CHEJACHE, DISTRITO DE SAMAN - AZANGARO - PUNO'\n",
      " '0367091.CREACION DEL CENTRO DE SERVICIOS - TAMBO EN EL CP EL ARABE, DISTRITO DE JOSE CRESPO Y CASTILLO, LEONCIO PRADO, HUANUCO'\n",
      " '0072183.ACCIONES DE PRENSA, IMAGEN Y PROTOCOLO'\n",
      " '0235455.MONITOREAR Y SUPERVISAR LA IMPLEMENTACION DE LAS PLATAFORMAS DE SERVICIOS'\n",
      " '0235453.ARTICULAR LA PRESTACION DE SERVICIOS Y ACTIVIDADES A TRAVES DE LAS PLATAFORMAS DE SERVICIOS'\n",
      " '0367089.CREACION DEL CENTRO DE SERVICIOS - TAMBO EN EL CENTRO POBLADO DE PUERTO AUXILIO, DISTRITO DE LAGUNAS, ALTO AMAZONAS, LORETO'\n",
      " '0053571.GESTION DE RECURSOS HUMANOS'\n",
      " '0222334.COORDINACION PARA LA OPERACION Y MANTENIMIENTO DE LAS PLATAFORMAS ITINERANTES DE ACCION SOCIAL - PIAS, EN EL MARCO DE LA ESTRATEGIA DE ACCION SOCIAL CON SOSTENIBILIDAD - EASS'\n",
      " '0000017.ACCIONES DE LA ALTA DIRECCION'\n",
      " '0040624.ASESORAMIENTO TECNICO Y JURIDICO'\n",
      " '0390719.CREACION DEL CENTRO DE SERVICIOS - TAMBO EN EL CENTRO POBLADO QUINUAL, DISTRITO DE MARCABAL, SANCHEZ CARRION, LA LIBERTAD'\n",
      " '0088314.DESARROLLAR ACCIONES DE TECNOLOGIA DE LA INFORMACION'\n",
      " '0220270.ACCIONES DE PLANEAMIENTO, PRESUPUESTO Y MODERNIZACION'\n",
      " '0160798.IMPLEMENTACION DE MEDIDAS DE PROTECCION ANTE BAJAS TEMPERATURAS'\n",
      " '0367088.CREACION DEL CENTRO DE SERVICIOS - TAMBO EN EL CP DE SANTA ROSA DE ALTO YANAJANCA, DISTRITO DE CHOLON, MARAÑON, HUANUCO'\n",
      " '0025788.ELABORACION DE EXPEDIENTE TECNICO'\n",
      " '0367087.CREACION DEL CENTRO DE SERVICIOS - TAMBO EN EL CP SANTA MERCEDES, DISTRITO ROSA PANDURO, PUTUMAYO, LORETO'\n",
      " '0390720.CREACION DEL CENTRO DE SERVICIOS - TAMBO EN EL CENTRO POBLADO DE TACNA, DISTRITO DE JOSE CRESPO Y CASTILLO, LEONCIO PRADO, HUANUCO'\n",
      " '0417965.CREACION DEL CENTRO DE SERVICIOS - TAMBO EN EL CENTRO POBLADO JENARO HERRERA, DISTRITO JENARO HERRERA - REQUENA - LORETO'\n",
      " '0367092.CREACION DEL CENTRO DE SERVICIOS - TAMBO EN EL CP SANTA ANA, DISTRITO PADRE MARQUEZ, UCAYALI, LORETO'\n",
      " '0367097.CREACION DEL CENTRO DE SERVICIOS TAMBO EN EL CP DE SAN JUAN DE CODO, DISTRITO DE CODO DEL POZUZO, PUERTO INCA, HUANUCO'\n",
      " '0395686.CREACION DEL CENTRO DE SERVICIOS -TAMBO EN EL CENTRO POBLADO DE SAMAN, DISTRITO DE SARAYACU, UCAYALI, LORETO'\n",
      " '0417289.CREACION DEL CENTRO DE SERVICIOS - TAMBO EN EL CENTRO POBLADO SACHAVACA, DISTRITO DE MONZON - HUMALIES - HUANUCO'\n",
      " '0367094.CREACION DEL CENTRO DE SERVICIOS - TAMBO EN EL CP DE TZOMAVENI, DISTRITO PANGOA, SATIPO, JUNIN'\n",
      " '0367090.CREACION DEL CENTRO DE SERVICIOS - TAMBO EN EL CP REMANSO, DISTRITO YAGUAS, PUTUMAYO, LORETO'\n",
      " '0417291.CREACION DEL CENTRO DE SERVICIOS - TAMBO EN EL CENTRO POBLADO LA MORADA, DISTRITO DE CHOLON - MARAÑON - HUANUCO'\n",
      " '0332638.CREACION DEL CENTRO DE SERVICIOS TAMBO EN EL CENTRO POBLADO RUMITUNI, DISTRITO NAPO - MAYNAS - LORETO'\n",
      " '0367093.CREACION DEL CENTRO DE SERVICIOS - TAMBO EN EL CP FERNANDO ROSAS, DISTRITO DE MORONA, DATEM DEL MARAÑON, LORETO'\n",
      " '0000788.ESTUDIOS DE PRE-INVERSION'\n",
      " '0367096.CREACION DEL CENTRO DE SERVICIOS - TAMBO EN EL CP DE ORELLANA, DISTRITO DE CONSTITUCION, OXAPAMPA, PASCO']\n"
     ]
    }
   ],
   "source": [
    "print(train_data_df[\"FINALIDAD\"].unique())"
   ]
  },
  {
   "cell_type": "code",
   "execution_count": 19,
   "metadata": {},
   "outputs": [
    {
     "name": "stdout",
     "output_type": "stream",
     "text": [
      "['00248.REPORTE' '00043.ESTABLECIMIENTO' '00060.INFORME' '00096.PROYECTO'\n",
      " '00152.USUARIO' '00086.PERSONA' '00054.EXPEDIENTE TECNICO' '00001.ACCION'\n",
      " '00213.ESTUDIO DE PREINVERSION']\n"
     ]
    }
   ],
   "source": [
    "print(train_data_df[\"UNIDAD_MEDIDA\"].unique())"
   ]
  },
  {
   "cell_type": "code",
   "execution_count": 20,
   "metadata": {},
   "outputs": [
    {
     "name": "stdout",
     "output_type": "stream",
     "text": [
      "[0]\n"
     ]
    }
   ],
   "source": [
    "print(train_data_df[\"CANT_META_ANUAL\"].unique())"
   ]
  },
  {
   "cell_type": "code",
   "execution_count": 21,
   "metadata": {},
   "outputs": [
    {
     "name": "stdout",
     "output_type": "stream",
     "text": [
      "[    6    16     2    63    17    36    32    61    10    12     4     0\n",
      "    18    51     1    26    41    20    19    38     9 40890 11500]\n"
     ]
    }
   ],
   "source": [
    "print(train_data_df[\"CANT_META_SEM\"].unique())"
   ]
  },
  {
   "cell_type": "code",
   "execution_count": 22,
   "metadata": {},
   "outputs": [
    {
     "name": "stdout",
     "output_type": "stream",
     "text": [
      "[0]\n"
     ]
    }
   ],
   "source": [
    "print(train_data_df[\"AVAN_FISICO_ANUAL\"].unique())"
   ]
  },
  {
   "cell_type": "code",
   "execution_count": 23,
   "metadata": {},
   "outputs": [
    {
     "name": "stdout",
     "output_type": "stream",
     "text": [
      "[    6    16     2    63    17    36    32    61    10    12     4     0\n",
      "    19    51     1    26    41    20    40     9 61303 12429]\n"
     ]
    }
   ],
   "source": [
    "print(train_data_df[\"AVAN_FISICO_SEM\"].unique())"
   ]
  },
  {
   "cell_type": "code",
   "execution_count": 24,
   "metadata": {},
   "outputs": [
    {
     "name": "stdout",
     "output_type": "stream",
     "text": [
      "[ 9 23 41  4 10 56 48 13 44  8 43 20 45 19 60 52 59 62  6 78 15 42 29 49\n",
      " 16 53 51 57 25 64 24 63 50 47 46 61 18 55 22 11 12 14 40 21 58 17  7 67\n",
      "  5 28 54 38  3 27 65 26  2  1 30 70 39 35 66 80 33 31 72 74 71 77 32 79\n",
      " 36 76 68 69 34 75 37]\n"
     ]
    }
   ],
   "source": [
    "print(train_data_df[\"SEC_FUNC\"].unique())"
   ]
  },
  {
   "cell_type": "code",
   "execution_count": 25,
   "metadata": {},
   "outputs": [
    {
     "name": "stdout",
     "output_type": "stream",
     "text": [
      "['AYACUCHO' 'TACNA' 'AMAZONAS' 'LIMA' 'MADRE DE DIOS' 'CUSCO'\n",
      " 'HUANCAVELICA' 'AREQUIPA' 'APURIMAC' 'PIURA' 'PASCO' 'PUNO' 'LA LIBERTAD'\n",
      " 'ANCASH' 'JUNIN' 'HUANUCO' 'LAMBAYEQUE' 'MOQUEGUA' 'UCAYALI' 'CAJAMARCA'\n",
      " 'SAN MARTIN' 'LORETO']\n"
     ]
    }
   ],
   "source": [
    "print(train_data_df[\"DEPARTAMENTO\"].unique())"
   ]
  },
  {
   "cell_type": "code",
   "execution_count": 26,
   "metadata": {},
   "outputs": [
    {
     "name": "stdout",
     "output_type": "stream",
     "text": [
      "['HUAMANGA' 'TACNA' 'CHACHAPOYAS' 'LIMA' 'LUCANAS' 'TAMBOPATA' 'CUSCO'\n",
      " 'HUANCAVELICA' 'AREQUIPA' 'ABANCAY' 'PIURA' 'PASCO' 'PUNO' 'TRUJILLO'\n",
      " 'HUARAZ' 'AZANGARO' 'HUANCAYO' 'LEONCIO PRADO' 'CHICLAYO'\n",
      " 'MARISCAL NIETO' 'CORONEL PORTIL' 'HUANUCO' 'CAJAMARCA' 'MOYOBAMBA'\n",
      " 'MAYNAS' 'ALTO AMAZONAS' 'CAJATAMBO' 'SANCHEZ CARRIO' 'MARANON'\n",
      " 'CARABAYA' 'LORETO' 'PUTUMAYO' 'REQUENA' 'UCAYALI' 'PUERTO INCA' 'LAMPA'\n",
      " 'HUAMALIES' 'SATIPO' 'MOHO' 'DATEM DEL MARA' 'OXAPAMPA']\n"
     ]
    }
   ],
   "source": [
    "print(train_data_df[\"PROVINCIA\"].unique())"
   ]
  },
  {
   "cell_type": "code",
   "execution_count": 27,
   "metadata": {},
   "outputs": [
    {
     "name": "stdout",
     "output_type": "stream",
     "text": [
      "['MULTIDISTRITAL' 'LIMA' 'AYACUCHO' 'TRUJILLO' 'SAMAN' 'JOSE CRESPO Y '\n",
      " 'HUANCAYO' 'HUANUCO' 'PUQUIO' 'LAGUNAS' 'GORGOR' 'MARCABAL' 'CHOLON'\n",
      " 'CRUCERO' 'ROSA PANDURO' 'JENARO HERRERA' 'PADRE MARQUEZ'\n",
      " 'CODO DEL POZUZ' 'SARAYACU' 'SAN JUAN DE SA' 'LAMPA' 'MONZON' 'PANGOA'\n",
      " 'HUATA' 'YAGUAS' 'NAPO' 'TILALI' 'MORONA' 'CONSTITUCION']\n"
     ]
    }
   ],
   "source": [
    "print(train_data_df[\"DISTRITO\"].unique())"
   ]
  },
  {
   "cell_type": "code",
   "execution_count": 28,
   "metadata": {},
   "outputs": [
    {
     "name": "stdout",
     "output_type": "stream",
     "text": [
      "[ 50199 230199  10199 150101  50699 170199  80199  90199  40199  30199\n",
      " 200199  50101 190199 210199 130101  20199 210210 120199 100604 130199\n",
      " 140199 120101 180199 250199 100101  60199  50601 220199 160199 100199\n",
      " 160206 150303 150199 130905 100702 210306 160399 160802 160510 160603\n",
      " 100902 160605 210213 210701 100507 120606 210108 160804 160107 210904\n",
      " 160704 190308]\n"
     ]
    }
   ],
   "source": [
    "print(train_data_df[\"UBIGEO\"].unique())"
   ]
  },
  {
   "cell_type": "code",
   "execution_count": 29,
   "metadata": {},
   "outputs": [
    {
     "name": "stdout",
     "output_type": "stream",
     "text": [
      "['1.RECURSOS ORDINARIOS']\n"
     ]
    }
   ],
   "source": [
    "print(train_data_df[\"FUENTE_FINANC\"].unique())"
   ]
  },
  {
   "cell_type": "code",
   "execution_count": 30,
   "metadata": {},
   "outputs": [
    {
     "name": "stdout",
     "output_type": "stream",
     "text": [
      "['00.RECURSOS ORDINARIOS']\n"
     ]
    }
   ],
   "source": [
    "print(train_data_df[\"RUBRO\"].unique())"
   ]
  },
  {
   "cell_type": "code",
   "execution_count": 31,
   "metadata": {},
   "outputs": [
    {
     "name": "stdout",
     "output_type": "stream",
     "text": [
      "['5.GASTOS CORRIENTES' '6.GASTOS DE CAPITAL']\n"
     ]
    }
   ],
   "source": [
    "print(train_data_df[\"CATEGORIA_GASTO\"].unique())"
   ]
  },
  {
   "cell_type": "code",
   "execution_count": 32,
   "metadata": {},
   "outputs": [
    {
     "name": "stdout",
     "output_type": "stream",
     "text": [
      "['2.GASTOS PRESUPUESTARIOS']\n"
     ]
    }
   ],
   "source": [
    "print(train_data_df[\"TIPO_TRANSACCION\"].unique())"
   ]
  },
  {
   "cell_type": "code",
   "execution_count": 33,
   "metadata": {},
   "outputs": [
    {
     "name": "stdout",
     "output_type": "stream",
     "text": [
      "['3.BIENES Y SERVICIOS' '5.OTROS GASTOS'\n",
      " '6.ADQUISICION DE ACTIVOS NO FINANCIEROS']\n"
     ]
    }
   ],
   "source": [
    "print(train_data_df[\"GENERICA\"].unique())"
   ]
  },
  {
   "cell_type": "code",
   "execution_count": 34,
   "metadata": {},
   "outputs": [
    {
     "name": "stdout",
     "output_type": "stream",
     "text": [
      "['2.CONTRATACION DE SERVICIOS' '1.COMPRA DE BIENES'\n",
      " '2.TRANSFERENCIAS A INSTITUCIONES SIN FINES DE LUCRO'\n",
      " '3.ADQUISICION DE VEHICULOS, MAQUINARIAS Y OTROS'\n",
      " '4.PAGO DE IMPUESTOS,  DERECHOS ADMINISTRATIVOS Y MULTAS GUBERNAMENTALES'\n",
      " '8.OTROS GASTOS DE ACTIVOS NO FINANCIEROS'\n",
      " '5.PAGO DE SENTENCIAS JUDICIALES, LAUDOS ARBITRALES Y SIMILARES']\n"
     ]
    }
   ],
   "source": [
    "print(train_data_df[\"SUBGENERICA\"].unique())"
   ]
  },
  {
   "cell_type": "code",
   "execution_count": 35,
   "metadata": {},
   "outputs": [
    {
     "name": "stdout",
     "output_type": "stream",
     "text": [
      "['6.SERVICIOS ADMINISTRATIVOS, FINANCIEROS Y DE SEGUROS' '1.VIAJES'\n",
      " '8.CONTRATO ADMINISTRATIVO DE SERVICIOS'\n",
      " '7.SERVICIOS PROFESIONALES Y TECNICOS'\n",
      " '3.COMBUSTIBLES, CARBURANTES, LUBRICANTES Y AFINES'\n",
      " '5.MATERIALES Y  UTILES'\n",
      " '2.SERVICIOS BASICOS, COMUNICACIONES, PUBLICIDAD Y DIFUSION'\n",
      " '1.ALIMENTOS Y BEBIDAS'\n",
      " '4.SERVICIO DE MANTENIMIENTO, ACONDICIONAMIENTO Y  REPARACIONES'\n",
      " '2.TRANSFERENCIAS DE CAPITAL A INSTITUCIONES SIN FINES DE LUCRO.'\n",
      " '5.ALQUILERES DE MUEBLES E INMUEBLES' '2.VESTUARIOS Y TEXTILES'\n",
      " '99.COMPRA DE OTROS BIENES' '8.SUMINISTROS MEDICOS' '7.ENSERES'\n",
      " '9.LOCACIÓN DE SERVICIOS RELACIONADAS AL ROL DE LA ENTIDAD'\n",
      " '6.REPUESTOS Y ACCESORIOS'\n",
      " '3.SERVICIOS DE LIMPIEZA, SEGURIDAD Y VIGILANCIA'\n",
      " '2.ADQUISICION DE MAQUINARIAS, EQUIPO Y MOBILIARIO'\n",
      " '1.AL GOBIERNO NACIONAL' '1.OTROS GASTOS DE ACTIVOS NO FINANCIEROS'\n",
      " '1.PAGO DE SENTENCIAS JUDICIALES Y LAUDOS ARBITRALES'\n",
      " '3.AL GOBIERNO LOCAL' '11.SUMINISTROS PARA MANTENIMIENTO Y REPARACION']\n"
     ]
    }
   ],
   "source": [
    "print(train_data_df[\"SUBGENERICA_DET\"].unique())"
   ]
  },
  {
   "cell_type": "code",
   "execution_count": 36,
   "metadata": {},
   "outputs": [
    {
     "name": "stdout",
     "output_type": "stream",
     "text": [
      "['3.SEGUROS' '2.VIAJES DOMESTICOS'\n",
      " '1.CONTRATO ADMINISTRATIVO DE SERVICIOS' '11.OTROS SERVICIOS'\n",
      " '1.COMBUSTIBLES, CARBURANTES, LUBRICANTES Y AFINES'\n",
      " '3.ASEO, LIMPIEZA Y COCINA'\n",
      " '1.SERVICIOS DE ENERGIA ELECTRICA, AGUA Y GAS' '1.ALIMENTOS Y BEBIDAS'\n",
      " '2.DE EDIFICACIONES, OFICINAS Y ESTRUCTURAS' '5.DE VEHICULOS'\n",
      " '1.TRANSFERENCIAS CAPITAL' '1.ALQUILERES DE MUEBLES E INMUEBLES'\n",
      " '2.SERVICIOS DE TELEFONIA E INTERNET'\n",
      " '1.VESTUARIO, ZAPATERIA Y ACCESORIOS, TALABARTERIA Y MATERIALES TEXTILES'\n",
      " '1.COMPRA DE OTROS BIENES' '1.PRODUCTOS FARMACEUTICOS' '1.ENSERES'\n",
      " '1.LOCACIÓN DE SERVICIOS RELACIONADAS AL ROL DE LA ENTIDAD'\n",
      " '7.DE MAQUINARIAS Y EQUIPOS' '1.DE OFICINA'\n",
      " '3.SERVICIOS DE MENSAJERIA, TELECOMUNICACIONES Y OTROS AFINES'\n",
      " '1.REPUESTOS Y ACCESORIOS' '1.SERVICIOS ADMINISTRATIVOS'\n",
      " '5.PRACTICANTES, SECIGRISTAS Y SIMILARES'\n",
      " '4.ELECTRICIDAD, ILUMINACION Y ELECTRONICA'\n",
      " '2.MATERIAL,INSUMOS,INSTRUMENTAL Y ACCESORIOS MEDICOS,QUIRURGICOS, ODONTOLOGICOS Y DE LABORATORIO'\n",
      " '2.SERVICIOS FINANCIEROS'\n",
      " '1.SERVICIOS DE LIMPIEZA, SEGURIDAD Y VIGILANCIA'\n",
      " '3.ADQUISICION DE EQUIPOS INFORMATICOS Y DE COMUNICACIONES'\n",
      " '9.ADQUISICION DE MAQUINARIA Y EQUIPO DIVERSOS'\n",
      " '5.SERVICIOS DE DIFUSIÓN EN EL DIARIO OFICIAL'\n",
      " '2.DERECHOS ADMINISTRATIVOS' '3.ELABORACION DE EXPEDIENTES TECNICOS'\n",
      " '13.SERVICIOS TÉCNICOS Y PROFESIONALES DESARROLLADOS POR PERSONAS JURÍDICAS'\n",
      " '10.SERVICIO POR ATENCIONES Y CELEBRACIONES'\n",
      " '14.SERVICIOS TÉCNICOS Y PROFESIONALES DESARROLLADOS POR PERSONAS NATURALES'\n",
      " '3.AL SECTOR PRIVADO' '1.SUMINISTROS PARA MANTENIMIENTO Y REPARACION'\n",
      " '1.PARA OFICINA' '2.ESTUDIO DE PREINVERSION'\n",
      " '6.DE MOBILIARIO Y SIMILARES']\n"
     ]
    }
   ],
   "source": [
    "print(train_data_df[\"ESPECIFICA\"].unique())"
   ]
  },
  {
   "cell_type": "code",
   "execution_count": 37,
   "metadata": {},
   "outputs": [
    {
     "name": "stdout",
     "output_type": "stream",
     "text": [
      "['99.OTROS SEGUROS DE  BIENES MUEBLES E INMUEBLES'\n",
      " '2.VIATICOS Y ASIGNACIONES POR COMISION DE SERVICIO'\n",
      " '10.OTROS BONOS EXTRAORDINARIOS' '2.SEGURO DE VEHICULOS'\n",
      " '99.SERVICIOS DIVERSOS' '4.AGUINALDOS DE C.A.S.'\n",
      " '3.LUBRICANTES, GRASAS Y AFINES' '99.OTROS GASTOS'\n",
      " '1.ASEO, LIMPIEZA Y TOCADOR' '1.COMBUSTIBLES Y CARBURANTES'\n",
      " '2.SERVICIO DE AGUA Y DESAGUE'\n",
      " '1.ALIMENTOS Y BEBIDAS PARA CONSUMO HUMANO'\n",
      " '2.TRANSPORTE Y TRASLADO DE CARGA, BIENES Y MATERIALES'\n",
      " '4.OTROS SEGUROS PERSONALES'\n",
      " '1.SERVICIO DE SUMINISTRO DE ENERGIA ELECTRICA'\n",
      " '1.DE EDIFICACIONES, OFICINAS Y ESTRUCTURAS' '1.DE VEHICULOS' '2.GASES'\n",
      " '99.A OTRAS ORGANIZACIONES' '1.DE EDIFICIOS Y ESTRUCTURAS'\n",
      " '3.SERVICIO DE INTERNET' '1.VESTUARIO, ACCESORIOS Y PRENDAS DIVERSAS'\n",
      " '99.OTROS BIENES' '3.SEGURO OBLIGATORIO ACCIDENTES DE TRANSITO (SOAT)'\n",
      " '99.OTROS PRODUCTOS SIMILARES' '1.ENSERES'\n",
      " '2.CONTRIBUCIONES A ESSALUD DE C.A.S.' '1.SERVICIO DE TELEFONIA MOVIL'\n",
      " '5.VACACIONES TRUNCAS DE C.A.S.'\n",
      " '1.LOCACIÓN DE SERVICIOS REALIZADOS POR PERSONAS NATURALES RELACIONADAS AL ROL DE LA ENTIDAD'\n",
      " '6.SERVICIO DE IMPRESIONES, ENCUADERNACION Y EMPASTADO'\n",
      " '1.DE MAQUINARIAS Y EQUIPOS'\n",
      " '2.PAPELERIA EN GENERAL, UTILES Y MATERIALES DE OFICINA'\n",
      " '1.PASAJES Y GASTOS DE TRANSPORTE' '1.CORREOS Y SERVICIOS DE MENSAJERIA'\n",
      " '2.TEXTILES Y ACABADOS TEXTILES' '4.DE SEGURIDAD'\n",
      " '1.CONTRATO ADMINISTRATIVO DE SERVICIOS' '2.GASTOS NOTARIALES'\n",
      " '8.CONTRIBUCIONES A LOS SEGUROS DE SALUD'\n",
      " '10.SUBVENCION ADICIONAL DE PRACTICAS PROFESIONALES'\n",
      " '1.ELECTRICIDAD, ILUMINACION Y ELECTRONICA'\n",
      " '5.SERVICIOS DE ALIMENTACION DE CONSUMO HUMANO'\n",
      " '1.MATERIAL, INSUMOS, INSTRUMENTAL Y ACCESORIOS  MEDICOS, QUIRURGICOS, ODONTOLOGICOS Y DE LABORATORIO'\n",
      " '2.SERVICIO DE TELEFONIA FIJA' '2.MEDICAMENTOS'\n",
      " '2.DE COCINA, COMEDOR Y CAFETERIA' '99.OTROS SERVICIOS FINANCIEROS'\n",
      " '1.SERVICIOS DE LIMPIEZA E HIGIENE' '1.REPUESTOS Y ACCESORIOS'\n",
      " '4.DE MAQUINARIAS Y EQUIPOS' '3.EQUIPOS DE TELECOMUNICACIONES'\n",
      " '2.PROPINAS PARA PRACTICANTES' '3.SEGURIDAD INDUSTRIAL'\n",
      " '1.DIFUSIÓN EN EL DIARIO OFICIAL' '1.DERECHOS ADMINISTRATIVOS'\n",
      " '1.ELABORACION DE EXPEDIENTES TECNICOS'\n",
      " '5.ASESORÍA Y/O DEFENSA LEGAL PARA SERVIDORES Y EX-SERVIDORES CIVILES'\n",
      " '99.OTROS ACCESORIOS Y REPUESTOS'\n",
      " '1.SEMINARIOS ,TALLERES Y SIMILARES ORGANIZADOS POR LA  INSTITUCION'\n",
      " '98.OTROS SERVICIOS TÉCNICOS Y PROFESIONALES DESARROLLADOS POR PERSONAS JURÍDICAS'\n",
      " '2.DE COMUNICACIONES Y TELECOMUNICACIONES' '2.A PERSONAS NATURALES'\n",
      " '99.DE OTROS BIENES Y ACTIVOS'\n",
      " '98.OTROS SERVICIOS TÉCNICOS Y PROFESIONALES DESARROLLADOS POR PERSONAS NATURALES'\n",
      " '6.MATERIALES DE  ACONDICIONAMIENTO'\n",
      " '2.SERVICIOS DE SEGURIDAD Y VIGILANCIA'\n",
      " '1.EQUIPOS COMPUTACIONALES Y PERIFERICOS' '1.MAQUINAS Y EQUIPOS'\n",
      " '3.DE MOBILIARIO Y SIMILARES' '2.MOBILIARIO' '1.ESTUDIO DE PREINVERSION'\n",
      " '1.DE MOBILIARIO Y SIMILARES'\n",
      " '3.LIBROS, DIARIOS, REVISTAS Y OTROS BIENES IMPRESOS NO VINCULADOS A ENSEÑANZA']\n"
     ]
    }
   ],
   "source": [
    "print(train_data_df[\"ESPECIFICA_DET\"].unique())"
   ]
  },
  {
   "cell_type": "markdown",
   "metadata": {},
   "source": [
    "¿Cual es la distribución de los gastos?"
   ]
  },
  {
   "cell_type": "code",
   "execution_count": 38,
   "metadata": {},
   "outputs": [
    {
     "data": {
      "image/png": "[encoded data removed]",
      "text/plain": [
       "<Figure size 2000x1000 with 1 Axes>"
      ]
     },
     "metadata": {},
     "output_type": "display_data"
    }
   ],
   "source": [
    "inform = train_data_df[\"MTO_PIA\"]\n",
    "plt.scatter(inform, np.zeros_like(inform), marker='o')\n",
    "plt.show()"
   ]
  },
  {
   "cell_type": "markdown",
   "metadata": {},
   "source": [
    "¿Que variables influencian el monto de gasto?"
   ]
  },
  {
   "cell_type": "code",
   "execution_count": 42,
   "metadata": {},
   "outputs": [
    {
     "data": {
      "text/html": [
       "<div>\n",
       "<style scoped>\n",
       "    .dataframe tbody tr th:only-of-type {\n",
       "        vertical-align: middle;\n",
       "    }\n",
       "\n",
       "    .dataframe tbody tr th {\n",
       "        vertical-align: top;\n",
       "    }\n",
       "\n",
       "    .dataframe thead th {\n",
       "        text-align: right;\n",
       "    }\n",
       "</style>\n",
       "<table border=\"1\" class=\"dataframe\">\n",
       "  <thead>\n",
       "    <tr style=\"text-align: right;\">\n",
       "      <th></th>\n",
       "      <th>ESPECIFICA_DET</th>\n",
       "      <th>MTO_PIA</th>\n",
       "    </tr>\n",
       "  </thead>\n",
       "  <tbody>\n",
       "    <tr>\n",
       "      <th>48</th>\n",
       "      <td>3.LIBROS, DIARIOS, REVISTAS Y OTROS BIENES IMPRESOS NO VINCULADOS A ENSEÑANZA</td>\n",
       "      <td>940</td>\n",
       "    </tr>\n",
       "    <tr>\n",
       "      <th>70</th>\n",
       "      <td>99.OTROS PRODUCTOS SIMILARES</td>\n",
       "      <td>2460</td>\n",
       "    </tr>\n",
       "    <tr>\n",
       "      <th>34</th>\n",
       "      <td>2.GASTOS NOTARIALES</td>\n",
       "      <td>6027</td>\n",
       "    </tr>\n",
       "    <tr>\n",
       "      <th>35</th>\n",
       "      <td>2.MEDICAMENTOS</td>\n",
       "      <td>6262</td>\n",
       "    </tr>\n",
       "    <tr>\n",
       "      <th>28</th>\n",
       "      <td>10.SUBVENCION ADICIONAL DE PRACTICAS PROFESIONALES</td>\n",
       "      <td>6756</td>\n",
       "    </tr>\n",
       "    <tr>\n",
       "      <th>72</th>\n",
       "      <td>99.OTROS SERVICIOS FINANCIEROS</td>\n",
       "      <td>6939</td>\n",
       "    </tr>\n",
       "    <tr>\n",
       "      <th>62</th>\n",
       "      <td>8.CONTRIBUCIONES A LOS SEGUROS DE SALUD</td>\n",
       "      <td>7513</td>\n",
       "    </tr>\n",
       "    <tr>\n",
       "      <th>54</th>\n",
       "      <td>4.DE MAQUINARIAS Y EQUIPOS</td>\n",
       "      <td>16800</td>\n",
       "    </tr>\n",
       "    <tr>\n",
       "      <th>21</th>\n",
       "      <td>1.REPUESTOS Y ACCESORIOS</td>\n",
       "      <td>17534</td>\n",
       "    </tr>\n",
       "    <tr>\n",
       "      <th>8</th>\n",
       "      <td>1.DE MOBILIARIO Y SIMILARES</td>\n",
       "      <td>18236</td>\n",
       "    </tr>\n",
       "    <tr>\n",
       "      <th>10</th>\n",
       "      <td>1.DERECHOS ADMINISTRATIVOS</td>\n",
       "      <td>22409</td>\n",
       "    </tr>\n",
       "    <tr>\n",
       "      <th>26</th>\n",
       "      <td>1.VESTUARIO, ACCESORIOS Y PRENDAS DIVERSAS</td>\n",
       "      <td>22966</td>\n",
       "    </tr>\n",
       "    <tr>\n",
       "      <th>41</th>\n",
       "      <td>2.SERVICIO DE TELEFONIA FIJA</td>\n",
       "      <td>23110</td>\n",
       "    </tr>\n",
       "    <tr>\n",
       "      <th>69</th>\n",
       "      <td>99.OTROS GASTOS</td>\n",
       "      <td>37803</td>\n",
       "    </tr>\n",
       "    <tr>\n",
       "      <th>58</th>\n",
       "      <td>5.SERVICIOS DE ALIMENTACION DE CONSUMO HUMANO</td>\n",
       "      <td>43000</td>\n",
       "    </tr>\n",
       "    <tr>\n",
       "      <th>0</th>\n",
       "      <td>1.ALIMENTOS Y BEBIDAS PARA CONSUMO HUMANO</td>\n",
       "      <td>43484</td>\n",
       "    </tr>\n",
       "    <tr>\n",
       "      <th>4</th>\n",
       "      <td>1.CORREOS Y SERVICIOS DE MENSAJERIA</td>\n",
       "      <td>45600</td>\n",
       "    </tr>\n",
       "    <tr>\n",
       "      <th>11</th>\n",
       "      <td>1.DIFUSIÓN EN EL DIARIO OFICIAL</td>\n",
       "      <td>67836</td>\n",
       "    </tr>\n",
       "    <tr>\n",
       "      <th>40</th>\n",
       "      <td>2.SERVICIO DE AGUA Y DESAGUE</td>\n",
       "      <td>71477</td>\n",
       "    </tr>\n",
       "    <tr>\n",
       "      <th>31</th>\n",
       "      <td>2.DE COCINA, COMEDOR Y CAFETERIA</td>\n",
       "      <td>72385</td>\n",
       "    </tr>\n",
       "    <tr>\n",
       "      <th>38</th>\n",
       "      <td>2.PROPINAS PARA PRACTICANTES</td>\n",
       "      <td>86447</td>\n",
       "    </tr>\n",
       "    <tr>\n",
       "      <th>7</th>\n",
       "      <td>1.DE MAQUINARIAS Y EQUIPOS</td>\n",
       "      <td>89073</td>\n",
       "    </tr>\n",
       "    <tr>\n",
       "      <th>49</th>\n",
       "      <td>3.LUBRICANTES, GRASAS Y AFINES</td>\n",
       "      <td>91069</td>\n",
       "    </tr>\n",
       "    <tr>\n",
       "      <th>19</th>\n",
       "      <td>1.MATERIAL, INSUMOS, INSTRUMENTAL Y ACCESORIOS  MEDICOS, QUIRURGICOS, ODONTOLOGICOS Y DE LABORATORIO</td>\n",
       "      <td>91130</td>\n",
       "    </tr>\n",
       "    <tr>\n",
       "      <th>61</th>\n",
       "      <td>6.SERVICIO DE IMPRESIONES, ENCUADERNACION Y EMPASTADO</td>\n",
       "      <td>93181</td>\n",
       "    </tr>\n",
       "    <tr>\n",
       "      <th>33</th>\n",
       "      <td>2.GASES</td>\n",
       "      <td>93659</td>\n",
       "    </tr>\n",
       "    <tr>\n",
       "      <th>51</th>\n",
       "      <td>3.SEGURO OBLIGATORIO ACCIDENTES DE TRANSITO (SOAT)</td>\n",
       "      <td>110824</td>\n",
       "    </tr>\n",
       "    <tr>\n",
       "      <th>39</th>\n",
       "      <td>2.SEGURO DE VEHICULOS</td>\n",
       "      <td>195056</td>\n",
       "    </tr>\n",
       "    <tr>\n",
       "      <th>68</th>\n",
       "      <td>99.OTROS BIENES</td>\n",
       "      <td>198149</td>\n",
       "    </tr>\n",
       "    <tr>\n",
       "      <th>66</th>\n",
       "      <td>99.DE OTROS BIENES Y ACTIVOS</td>\n",
       "      <td>199862</td>\n",
       "    </tr>\n",
       "    <tr>\n",
       "      <th>44</th>\n",
       "      <td>2.TRANSPORTE Y TRASLADO DE CARGA, BIENES Y MATERIALES</td>\n",
       "      <td>239385</td>\n",
       "    </tr>\n",
       "    <tr>\n",
       "      <th>13</th>\n",
       "      <td>1.ELECTRICIDAD, ILUMINACION Y ELECTRONICA</td>\n",
       "      <td>254524</td>\n",
       "    </tr>\n",
       "    <tr>\n",
       "      <th>56</th>\n",
       "      <td>4.OTROS SEGUROS PERSONALES</td>\n",
       "      <td>287084</td>\n",
       "    </tr>\n",
       "    <tr>\n",
       "      <th>53</th>\n",
       "      <td>4.AGUINALDOS DE C.A.S.</td>\n",
       "      <td>308700</td>\n",
       "    </tr>\n",
       "    <tr>\n",
       "      <th>25</th>\n",
       "      <td>1.SERVICIOS DE LIMPIEZA E HIGIENE</td>\n",
       "      <td>350000</td>\n",
       "    </tr>\n",
       "    <tr>\n",
       "      <th>14</th>\n",
       "      <td>1.ENSERES</td>\n",
       "      <td>365471</td>\n",
       "    </tr>\n",
       "    <tr>\n",
       "      <th>9</th>\n",
       "      <td>1.DE VEHICULOS</td>\n",
       "      <td>444484</td>\n",
       "    </tr>\n",
       "    <tr>\n",
       "      <th>42</th>\n",
       "      <td>2.SERVICIOS DE SEGURIDAD Y VIGILANCIA</td>\n",
       "      <td>465648</td>\n",
       "    </tr>\n",
       "    <tr>\n",
       "      <th>45</th>\n",
       "      <td>2.VIATICOS Y ASIGNACIONES POR COMISION DE SERVICIO</td>\n",
       "      <td>477136</td>\n",
       "    </tr>\n",
       "    <tr>\n",
       "      <th>43</th>\n",
       "      <td>2.TEXTILES Y ACABADOS TEXTILES</td>\n",
       "      <td>487633</td>\n",
       "    </tr>\n",
       "    <tr>\n",
       "      <th>24</th>\n",
       "      <td>1.SERVICIO DE TELEFONIA MOVIL</td>\n",
       "      <td>509034</td>\n",
       "    </tr>\n",
       "    <tr>\n",
       "      <th>20</th>\n",
       "      <td>1.PASAJES Y GASTOS DE TRANSPORTE</td>\n",
       "      <td>621016</td>\n",
       "    </tr>\n",
       "    <tr>\n",
       "      <th>73</th>\n",
       "      <td>99.SERVICIOS DIVERSOS</td>\n",
       "      <td>763216</td>\n",
       "    </tr>\n",
       "    <tr>\n",
       "      <th>71</th>\n",
       "      <td>99.OTROS SEGUROS DE  BIENES MUEBLES E INMUEBLES</td>\n",
       "      <td>777128</td>\n",
       "    </tr>\n",
       "    <tr>\n",
       "      <th>37</th>\n",
       "      <td>2.PAPELERIA EN GENERAL, UTILES Y MATERIALES DE OFICINA</td>\n",
       "      <td>971419</td>\n",
       "    </tr>\n",
       "    <tr>\n",
       "      <th>1</th>\n",
       "      <td>1.ASEO, LIMPIEZA Y TOCADOR</td>\n",
       "      <td>1117690</td>\n",
       "    </tr>\n",
       "    <tr>\n",
       "      <th>65</th>\n",
       "      <td>99.A OTRAS ORGANIZACIONES</td>\n",
       "      <td>1179900</td>\n",
       "    </tr>\n",
       "    <tr>\n",
       "      <th>30</th>\n",
       "      <td>2.CONTRIBUCIONES A ESSALUD DE C.A.S.</td>\n",
       "      <td>1201112</td>\n",
       "    </tr>\n",
       "    <tr>\n",
       "      <th>23</th>\n",
       "      <td>1.SERVICIO DE SUMINISTRO DE ENERGIA ELECTRICA</td>\n",
       "      <td>1474372</td>\n",
       "    </tr>\n",
       "    <tr>\n",
       "      <th>6</th>\n",
       "      <td>1.DE EDIFICIOS Y ESTRUCTURAS</td>\n",
       "      <td>1505243</td>\n",
       "    </tr>\n",
       "    <tr>\n",
       "      <th>2</th>\n",
       "      <td>1.COMBUSTIBLES Y CARBURANTES</td>\n",
       "      <td>1700610</td>\n",
       "    </tr>\n",
       "    <tr>\n",
       "      <th>5</th>\n",
       "      <td>1.DE EDIFICACIONES, OFICINAS Y ESTRUCTURAS</td>\n",
       "      <td>3450232</td>\n",
       "    </tr>\n",
       "    <tr>\n",
       "      <th>52</th>\n",
       "      <td>3.SERVICIO DE INTERNET</td>\n",
       "      <td>3600712</td>\n",
       "    </tr>\n",
       "    <tr>\n",
       "      <th>17</th>\n",
       "      <td>1.LOCACIÓN DE SERVICIOS REALIZADOS POR PERSONAS NATURALES RELACIONADAS AL ROL DE LA ENTIDAD</td>\n",
       "      <td>18520624</td>\n",
       "    </tr>\n",
       "    <tr>\n",
       "      <th>3</th>\n",
       "      <td>1.CONTRATO ADMINISTRATIVO DE SERVICIOS</td>\n",
       "      <td>26611331</td>\n",
       "    </tr>\n",
       "  </tbody>\n",
       "</table>\n",
       "</div>"
      ],
      "text/plain": [
       "                                                                                          ESPECIFICA_DET  \\\n",
       "48                         3.LIBROS, DIARIOS, REVISTAS Y OTROS BIENES IMPRESOS NO VINCULADOS A ENSEÑANZA   \n",
       "70                                                                          99.OTROS PRODUCTOS SIMILARES   \n",
       "34                                                                                   2.GASTOS NOTARIALES   \n",
       "35                                                                                        2.MEDICAMENTOS   \n",
       "28                                                    10.SUBVENCION ADICIONAL DE PRACTICAS PROFESIONALES   \n",
       "72                                                                        99.OTROS SERVICIOS FINANCIEROS   \n",
       "62                                                               8.CONTRIBUCIONES A LOS SEGUROS DE SALUD   \n",
       "54                                                                            4.DE MAQUINARIAS Y EQUIPOS   \n",
       "21                                                                              1.REPUESTOS Y ACCESORIOS   \n",
       "8                                                                            1.DE MOBILIARIO Y SIMILARES   \n",
       "10                                                                            1.DERECHOS ADMINISTRATIVOS   \n",
       "26                                                            1.VESTUARIO, ACCESORIOS Y PRENDAS DIVERSAS   \n",
       "41                                                                          2.SERVICIO DE TELEFONIA FIJA   \n",
       "69                                                                                       99.OTROS GASTOS   \n",
       "58                                                         5.SERVICIOS DE ALIMENTACION DE CONSUMO HUMANO   \n",
       "0                                                              1.ALIMENTOS Y BEBIDAS PARA CONSUMO HUMANO   \n",
       "4                                                                    1.CORREOS Y SERVICIOS DE MENSAJERIA   \n",
       "11                                                                       1.DIFUSIÓN EN EL DIARIO OFICIAL   \n",
       "40                                                                          2.SERVICIO DE AGUA Y DESAGUE   \n",
       "31                                                                      2.DE COCINA, COMEDOR Y CAFETERIA   \n",
       "38                                                                          2.PROPINAS PARA PRACTICANTES   \n",
       "7                                                                             1.DE MAQUINARIAS Y EQUIPOS   \n",
       "49                                                                        3.LUBRICANTES, GRASAS Y AFINES   \n",
       "19  1.MATERIAL, INSUMOS, INSTRUMENTAL Y ACCESORIOS  MEDICOS, QUIRURGICOS, ODONTOLOGICOS Y DE LABORATORIO   \n",
       "61                                                 6.SERVICIO DE IMPRESIONES, ENCUADERNACION Y EMPASTADO   \n",
       "33                                                                                               2.GASES   \n",
       "51                                                    3.SEGURO OBLIGATORIO ACCIDENTES DE TRANSITO (SOAT)   \n",
       "39                                                                                 2.SEGURO DE VEHICULOS   \n",
       "68                                                                                       99.OTROS BIENES   \n",
       "66                                                                          99.DE OTROS BIENES Y ACTIVOS   \n",
       "44                                                 2.TRANSPORTE Y TRASLADO DE CARGA, BIENES Y MATERIALES   \n",
       "13                                                             1.ELECTRICIDAD, ILUMINACION Y ELECTRONICA   \n",
       "56                                                                            4.OTROS SEGUROS PERSONALES   \n",
       "53                                                                                4.AGUINALDOS DE C.A.S.   \n",
       "25                                                                     1.SERVICIOS DE LIMPIEZA E HIGIENE   \n",
       "14                                                                                             1.ENSERES   \n",
       "9                                                                                         1.DE VEHICULOS   \n",
       "42                                                                 2.SERVICIOS DE SEGURIDAD Y VIGILANCIA   \n",
       "45                                                    2.VIATICOS Y ASIGNACIONES POR COMISION DE SERVICIO   \n",
       "43                                                                        2.TEXTILES Y ACABADOS TEXTILES   \n",
       "24                                                                         1.SERVICIO DE TELEFONIA MOVIL   \n",
       "20                                                                      1.PASAJES Y GASTOS DE TRANSPORTE   \n",
       "73                                                                                 99.SERVICIOS DIVERSOS   \n",
       "71                                                       99.OTROS SEGUROS DE  BIENES MUEBLES E INMUEBLES   \n",
       "37                                                2.PAPELERIA EN GENERAL, UTILES Y MATERIALES DE OFICINA   \n",
       "1                                                                             1.ASEO, LIMPIEZA Y TOCADOR   \n",
       "65                                                                             99.A OTRAS ORGANIZACIONES   \n",
       "30                                                                  2.CONTRIBUCIONES A ESSALUD DE C.A.S.   \n",
       "23                                                         1.SERVICIO DE SUMINISTRO DE ENERGIA ELECTRICA   \n",
       "6                                                                           1.DE EDIFICIOS Y ESTRUCTURAS   \n",
       "2                                                                           1.COMBUSTIBLES Y CARBURANTES   \n",
       "5                                                             1.DE EDIFICACIONES, OFICINAS Y ESTRUCTURAS   \n",
       "52                                                                                3.SERVICIO DE INTERNET   \n",
       "17           1.LOCACIÓN DE SERVICIOS REALIZADOS POR PERSONAS NATURALES RELACIONADAS AL ROL DE LA ENTIDAD   \n",
       "3                                                                 1.CONTRATO ADMINISTRATIVO DE SERVICIOS   \n",
       "\n",
       "     MTO_PIA  \n",
       "48       940  \n",
       "70      2460  \n",
       "34      6027  \n",
       "35      6262  \n",
       "28      6756  \n",
       "72      6939  \n",
       "62      7513  \n",
       "54     16800  \n",
       "21     17534  \n",
       "8      18236  \n",
       "10     22409  \n",
       "26     22966  \n",
       "41     23110  \n",
       "69     37803  \n",
       "58     43000  \n",
       "0      43484  \n",
       "4      45600  \n",
       "11     67836  \n",
       "40     71477  \n",
       "31     72385  \n",
       "38     86447  \n",
       "7      89073  \n",
       "49     91069  \n",
       "19     91130  \n",
       "61     93181  \n",
       "33     93659  \n",
       "51    110824  \n",
       "39    195056  \n",
       "68    198149  \n",
       "66    199862  \n",
       "44    239385  \n",
       "13    254524  \n",
       "56    287084  \n",
       "53    308700  \n",
       "25    350000  \n",
       "14    365471  \n",
       "9     444484  \n",
       "42    465648  \n",
       "45    477136  \n",
       "43    487633  \n",
       "24    509034  \n",
       "20    621016  \n",
       "73    763216  \n",
       "71    777128  \n",
       "37    971419  \n",
       "1    1117690  \n",
       "65   1179900  \n",
       "30   1201112  \n",
       "23   1474372  \n",
       "6    1505243  \n",
       "2    1700610  \n",
       "5    3450232  \n",
       "52   3600712  \n",
       "17  18520624  \n",
       "3   26611331  "
      ]
     },
     "execution_count": 42,
     "metadata": {},
     "output_type": "execute_result"
    }
   ],
   "source": [
    "results_df = train_data_df.groupby('ESPECIFICA_DET', as_index=False)['MTO_PIA'].sum()\n",
    "results_df[results_df['MTO_PIA'] != 0].sort_values('MTO_PIA')"
   ]
  }
 ],
 "metadata": {
  "kernelspec": {
   "display_name": "Python 3",
   "language": "python",
   "name": "python3"
  },
  "language_info": {
   "codemirror_mode": {
    "name": "ipython",
    "version": 3
   },
   "file_extension": ".py",
   "mimetype": "text/x-python",
   "name": "python",
   "nbconvert_exporter": "python",
   "pygments_lexer": "ipython3",
   "version": "3.11.0"
  }
 },
 "nbformat": 4,
 "nbformat_minor": 2
}
